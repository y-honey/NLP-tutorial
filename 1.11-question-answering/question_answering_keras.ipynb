{
 "cells": [
  {
   "cell_type": "markdown",
   "metadata": {},
   "source": [
    "## Question Answering System"
   ]
  },
  {
   "cell_type": "markdown",
   "metadata": {},
   "source": [
    "## Imports"
   ]
  },
  {
   "cell_type": "code",
   "execution_count": 1,
   "metadata": {},
   "outputs": [],
   "source": [
    "import os\n",
    "import tensorflow\n",
    "from tensorflow import keras\n",
    "from tensorflow.keras.models import Sequential, Model\n",
    "from tensorflow.keras.layers import Embedding\n",
    "from tensorflow.keras.layers import Input, Activation, Dense, Permute, Dropout\n",
    "from tensorflow.keras.layers import add, dot, concatenate\n",
    "from tensorflow.keras.layers import LSTM, GRU\n",
    "from tensorflow.keras.utils import get_file\n",
    "from tensorflow.keras.preprocessing.sequence import pad_sequences\n",
    "from tensorflow.keras import backend as K\n",
    "\n",
    "from functools import reduce\n",
    "import tarfile\n",
    "import numpy as np\n",
    "import re\n",
    "\n",
    "import IPython\n",
    "import matplotlib.pyplot as plt\n",
    "import pandas as pd\n",
    "%matplotlib inline"
   ]
  },
  {
   "cell_type": "code",
   "execution_count": 22,
   "metadata": {},
   "outputs": [],
   "source": [
    "class PreprocessData():\n",
    "    def tokenize(self, sent):\n",
    "        return [ x.strip() for x in re.split('(\\W+)?', sent) if x.strip()]\n",
    "    \n",
    "    def parse_data(self, lines, only_supporting=False):\n",
    "        \n",
    "        '''Parse stories provided in the bAbi tasks format\n",
    "        If only_supporting is true, only the sentences\n",
    "        that support the answer are kept.\n",
    "        '''\n",
    "        data = []\n",
    "        story = []\n",
    "        for line in lines:\n",
    "            line = line.strip()\n",
    "            nid, line = line.split(' ', 1)\n",
    "            nid = int(nid)\n",
    "            if nid == 1:\n",
    "                story = []\n",
    "            if '\\t' in line:\n",
    "                q, a, supporting = line.split('\\t')\n",
    "                q = self.tokenize(q)\n",
    "                substory = None\n",
    "                if only_supporting:\n",
    "                    # Only select the related substory\n",
    "                    supporting = map(int, supporting.split())\n",
    "                    substory = [story[i - 1] for i in supporting]\n",
    "                else:\n",
    "                    # Provide all the substories\n",
    "                    substory = [x for x in story if x]\n",
    "                data.append((substory, q, a))\n",
    "                story.append('')\n",
    "            else:\n",
    "                sent = self.tokenize(line)\n",
    "                story.append(sent)\n",
    "        return data\n",
    "    \n",
    "    def make_data(self, lines, only_supporting=False, max_length=None):\n",
    "        data = self.parse_data(lines, only_supporting=only_supporting)\n",
    "        flatten = lambda data: reduce(lambda x, y: x + y, data)\n",
    "        data = [(flatten(story), q, answer) for story, q, answer in data if not max_length or len(flatten(story)) < max_length]\n",
    "        return data\n",
    "    \n",
    "    \n",
    "    def vectorize_stories(self, data, word_idx, story_maxlen, query_maxlen):\n",
    "        X = []\n",
    "        Xq = []\n",
    "        Y = []\n",
    "        for story, query, answer in data:\n",
    "            x = [word_idx[w] for w in story]\n",
    "            xq = [word_idx[w] for w in query]\n",
    "            # let's not forget that index 0 is reserved\n",
    "            y = np.zeros(len(word_idx) + 1)\n",
    "            y[word_idx[answer]] = 1\n",
    "            X.append(x)\n",
    "            Xq.append(xq)\n",
    "            Y.append(y)\n",
    "        return (pad_sequences(X, maxlen=story_maxlen),\n",
    "                pad_sequences(Xq, maxlen=query_maxlen), np.array(Y))\n",
    "    \n",
    "    def get_data(self,path,type = \"qa1_single-supporting-fact\"):\n",
    "        train_path = os.path.join(path,type+'_train.txt')\n",
    "        test_path = os.path.join(path,type+'_test.txt')\n",
    "        with open(train_path,'r')as fp:\n",
    "            data = fp.read().splitlines()\n",
    "            train_data = self.make_data(data)\n",
    "        with open(test_path,'r') as fp:\n",
    "            data = fp.read().splitlines()\n",
    "            test_data = self.make_data(data)\n",
    "            \n",
    "        vocab = set()\n",
    "        for story, q, answer in train_data + test_data:\n",
    "            vocab |= set(story + q + [answer])\n",
    "        self.vocab = sorted(vocab)\n",
    "\n",
    "        # Reserve 0 for masking via pad_sequences\n",
    "        self.vocab_size = len(vocab) + 1\n",
    "        self.story_maxlen = max(map(len, (x for x, _, _ in train_data + test_data)))\n",
    "        self.query_maxlen = max(map(len, (x for _, x, _ in train_data + test_data)))\n",
    "        return train_data,test_data\n",
    "\n"
   ]
  },
  {
   "cell_type": "code",
   "execution_count": 20,
   "metadata": {},
   "outputs": [
    {
     "ename": "NameError",
     "evalue": "name 'vocab' is not defined",
     "output_type": "error",
     "traceback": [
      "\u001b[0;31m---------------------------------------------------------------------------\u001b[0m",
      "\u001b[0;31mNameError\u001b[0m                                 Traceback (most recent call last)",
      "\u001b[0;32m<ipython-input-20-1c342a52d2af>\u001b[0m in \u001b[0;36m<module>\u001b[0;34m\u001b[0m\n\u001b[1;32m      2\u001b[0m \u001b[0mtrain_data\u001b[0m\u001b[0;34m,\u001b[0m\u001b[0mtest_data\u001b[0m \u001b[0;34m=\u001b[0m \u001b[0mprp_obj\u001b[0m\u001b[0;34m.\u001b[0m\u001b[0mget_data\u001b[0m\u001b[0;34m(\u001b[0m\u001b[0;34m\"data/en-10k\"\u001b[0m\u001b[0;34m)\u001b[0m\u001b[0;34m\u001b[0m\u001b[0;34m\u001b[0m\u001b[0m\n\u001b[1;32m      3\u001b[0m \u001b[0mvocab_size\u001b[0m \u001b[0;34m=\u001b[0m \u001b[0mprp_obj\u001b[0m\u001b[0;34m.\u001b[0m\u001b[0mvocab_size\u001b[0m\u001b[0;34m\u001b[0m\u001b[0;34m\u001b[0m\u001b[0m\n\u001b[0;32m----> 4\u001b[0;31m \u001b[0mword2idx\u001b[0m \u001b[0;34m=\u001b[0m \u001b[0mdict\u001b[0m\u001b[0;34m(\u001b[0m\u001b[0;34m(\u001b[0m\u001b[0mc\u001b[0m\u001b[0;34m,\u001b[0m \u001b[0mi\u001b[0m \u001b[0;34m+\u001b[0m \u001b[0;36m1\u001b[0m\u001b[0;34m)\u001b[0m \u001b[0;32mfor\u001b[0m \u001b[0mi\u001b[0m\u001b[0;34m,\u001b[0m \u001b[0mc\u001b[0m \u001b[0;32min\u001b[0m \u001b[0menumerate\u001b[0m\u001b[0;34m(\u001b[0m\u001b[0mvocab\u001b[0m\u001b[0;34m)\u001b[0m\u001b[0;34m)\u001b[0m\u001b[0;34m\u001b[0m\u001b[0;34m\u001b[0m\u001b[0m\n\u001b[0m\u001b[1;32m      5\u001b[0m \u001b[0midx2word\u001b[0m \u001b[0;34m=\u001b[0m \u001b[0mdict\u001b[0m\u001b[0;34m(\u001b[0m\u001b[0;34m(\u001b[0m\u001b[0mi\u001b[0m\u001b[0;34m+\u001b[0m\u001b[0;36m1\u001b[0m\u001b[0;34m,\u001b[0m \u001b[0mc\u001b[0m\u001b[0;34m)\u001b[0m \u001b[0;32mfor\u001b[0m \u001b[0mi\u001b[0m\u001b[0;34m,\u001b[0m\u001b[0mc\u001b[0m \u001b[0;32min\u001b[0m \u001b[0menumerate\u001b[0m\u001b[0;34m(\u001b[0m\u001b[0mvocab\u001b[0m\u001b[0;34m)\u001b[0m\u001b[0;34m)\u001b[0m\u001b[0;34m\u001b[0m\u001b[0;34m\u001b[0m\u001b[0m\n\u001b[1;32m      6\u001b[0m \u001b[0mstory_maxlen\u001b[0m \u001b[0;34m=\u001b[0m \u001b[0mprp_obj\u001b[0m\u001b[0;34m.\u001b[0m\u001b[0mstory_maxlen\u001b[0m\u001b[0;34m\u001b[0m\u001b[0;34m\u001b[0m\u001b[0m\n",
      "\u001b[0;31mNameError\u001b[0m: name 'vocab' is not defined"
     ]
    }
   ],
   "source": [
    "prp_obj = PreprocessData()\n",
    "train_data,test_data = prp_obj.get_data(\"data/en-10k\")\n",
    "prp_obj.vocab = vocab\n",
    "vocab_size = .vocab_size\n",
    "word2idx = dict((c, i + 1) for i, c in enumerate(vocab))\n",
    "idx2word = dict((i+1, c) for i,c in enumerate(vocab))\n",
    "story_maxlen = prp_obj.story_maxlen\n",
    "query_maxlen = prp_obj.query_maxlen\n"
   ]
  },
  {
   "cell_type": "code",
   "execution_count": 21,
   "metadata": {},
   "outputs": [
    {
     "ename": "NameError",
     "evalue": "name 'word2idx' is not defined",
     "output_type": "error",
     "traceback": [
      "\u001b[0;31m---------------------------------------------------------------------------\u001b[0m",
      "\u001b[0;31mNameError\u001b[0m                                 Traceback (most recent call last)",
      "\u001b[0;32m<ipython-input-21-e8af7a5220a9>\u001b[0m in \u001b[0;36m<module>\u001b[0;34m\u001b[0m\n\u001b[1;32m      1\u001b[0m inputs_train, queries_train, answers_train = prp_obj.vectorize_stories(train_data,\n\u001b[0;32m----> 2\u001b[0;31m                                                                \u001b[0mword2idx\u001b[0m\u001b[0;34m,\u001b[0m\u001b[0;34m\u001b[0m\u001b[0;34m\u001b[0m\u001b[0m\n\u001b[0m\u001b[1;32m      3\u001b[0m                                                                \u001b[0mstory_maxlen\u001b[0m\u001b[0;34m,\u001b[0m\u001b[0;34m\u001b[0m\u001b[0;34m\u001b[0m\u001b[0m\n\u001b[1;32m      4\u001b[0m                                                                query_maxlen)\n\u001b[1;32m      5\u001b[0m inputs_test, queries_test, answers_test = prp_obj.vectorize_stories(test_data,\n",
      "\u001b[0;31mNameError\u001b[0m: name 'word2idx' is not defined"
     ]
    }
   ],
   "source": [
    "inputs_train, queries_train, answers_train = prp_obj.vectorize_stories(train_data,\n",
    "                                                               word2idx,\n",
    "                                                               story_maxlen,\n",
    "                                                               query_maxlen)\n",
    "inputs_test, queries_test, answers_test = prp_obj.vectorize_stories(test_data,\n",
    "                                                            word2idx,\n",
    "                                                            story_maxlen,\n",
    "                                                            query_maxlen)"
   ]
  },
  {
   "cell_type": "code",
   "execution_count": null,
   "metadata": {},
   "outputs": [],
   "source": []
  }
 ],
 "metadata": {
  "kernelspec": {
   "display_name": "Python 3",
   "language": "python",
   "name": "python3"
  },
  "language_info": {
   "codemirror_mode": {
    "name": "ipython",
    "version": 3
   },
   "file_extension": ".py",
   "mimetype": "text/x-python",
   "name": "python",
   "nbconvert_exporter": "python",
   "pygments_lexer": "ipython3",
   "version": "3.6.9"
  }
 },
 "nbformat": 4,
 "nbformat_minor": 2
}
