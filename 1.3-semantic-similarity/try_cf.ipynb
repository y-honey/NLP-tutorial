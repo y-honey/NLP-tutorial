{
 "cells": [
  {
   "cell_type": "code",
   "execution_count": 38,
   "metadata": {},
   "outputs": [],
   "source": [
    "from sentence_transformers import SentenceTransformer\n",
    "import scipy\n",
    "embedder = SentenceTransformer('bert-base-nli-mean-tokens')\n",
    "# Corpus with example sentences\n",
    "\n",
    "corpus = [\n",
    "       'i would like to clean my XYZ',\n",
    "    'book an appointment for XYZ cleaning',\n",
    "    'schedule a XYZ cleaning services',\n",
    "    'looking for XYZ cleaninng services',\n",
    "    'want an appointment for XYZ cleaning'\n",
    "]\n",
    "queries = ['i would like to clean my XYZ','book a slot for XYZ cleaning','looking for XYZ cleaninng services']"
   ]
  },
  {
   "cell_type": "code",
   "execution_count": 39,
   "metadata": {},
   "outputs": [],
   "source": [
    "corpus_embeddings = embedder.encode(corpus)\n",
    "query_embeddings = embedder.encode(queries)"
   ]
  },
  {
   "cell_type": "code",
   "execution_count": 40,
   "metadata": {},
   "outputs": [
    {
     "name": "stdout",
     "output_type": "stream",
     "text": [
      "[0.         0.31504001 0.23922292 0.20180429 0.21156411]\n",
      "matched sent:  book an appointment for XYZ cleaning , id:  1\n",
      "query:  i would like to clean my XYZ\n",
      "[0.249604   0.09753854 0.14501476 0.18097553 0.14041007]\n",
      "matched sent:  i would like to clean my XYZ , id:  0\n",
      "query:  book a slot for XYZ cleaning\n",
      "[2.01804328e-01 2.37920637e-01 1.28938306e-01 1.11133325e-13\n",
      " 1.53037771e-01]\n",
      "matched sent:  book an appointment for XYZ cleaning , id:  1\n",
      "query:  looking for XYZ cleaninng services\n"
     ]
    }
   ],
   "source": [
    "import numpy as np\n",
    "for query, query_embedding in zip(queries, query_embeddings):\n",
    "    distances = scipy.spatial.distance.cdist([query_embedding], corpus_embeddings, \"cosine\")[0]\n",
    "    print(distances)\n",
    "    print(\"matched sent: \",corpus[np.argmax(distances)],\", id: \",np.argmax(distances))\n",
    "    print(\"query: \",query)"
   ]
  },
  {
   "cell_type": "code",
   "execution_count": null,
   "metadata": {},
   "outputs": [],
   "source": []
  }
 ],
 "metadata": {
  "kernelspec": {
   "display_name": "Python 3",
   "language": "python",
   "name": "python3"
  },
  "language_info": {
   "codemirror_mode": {
    "name": "ipython",
    "version": 3
   },
   "file_extension": ".py",
   "mimetype": "text/x-python",
   "name": "python",
   "nbconvert_exporter": "python",
   "pygments_lexer": "ipython3",
   "version": "3.6.9"
  }
 },
 "nbformat": 4,
 "nbformat_minor": 2
}
