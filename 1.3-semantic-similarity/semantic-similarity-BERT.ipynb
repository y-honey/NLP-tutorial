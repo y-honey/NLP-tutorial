{
 "cells": [
  {
   "cell_type": "code",
   "execution_count": 7,
   "metadata": {},
   "outputs": [],
   "source": [
    "from sentence_transformers import SentenceTransformer\n",
    "import scipy\n",
    "embedder = SentenceTransformer('bert-base-nli-mean-tokens')\n",
    "# Corpus with example sentences\n",
    "\n",
    "corpus = [\n",
    "   'A man is eating a food.',\n",
    "   'A man is eating a piece of bread.',\n",
    "   'The girl is carrying a baby.',\n",
    "   'A man is riding a horse.',\n",
    "   'A woman is playing violin.',\n",
    "   'Two men pushed carts through the woods.',\n",
    "   'A man is riding a white horse on an enclosed ground.',\n",
    "   'A monkey is playing drums.',\n",
    "   'A cheetah is running behind its prey.']\n",
    "queries = ['A man is eating pasta.', \n",
    "           'Someone in a gorilla costume is playing a set of drums.', \n",
    "           'A cheetah chases prey on across a field.']"
   ]
  },
  {
   "cell_type": "code",
   "execution_count": 8,
   "metadata": {},
   "outputs": [],
   "source": [
    "corpus_embeddings = embedder.encode(corpus)\n",
    "query_embeddings = embedder.encode(queries)"
   ]
  },
  {
   "cell_type": "code",
   "execution_count": 22,
   "metadata": {},
   "outputs": [
    {
     "name": "stdout",
     "output_type": "stream",
     "text": [
      "[0.21805174 0.15202328 1.04767431 0.89392366 0.96026727 0.79048636\n",
      " 0.8414415  0.80550679 0.90363039] A man is eating pasta.\n",
      "The girl is carrying a baby.\n",
      "[0.80833937 0.8089816  0.76493318 0.79766881 0.92636551 0.84321454\n",
      " 0.80365482 0.20152853 0.71403489] Someone in a gorilla costume is playing a set of drums.\n",
      "A woman is playing violin.\n",
      "[0.97539473 0.95483563 0.87328057 0.7070155  0.94015294 0.63376342\n",
      " 0.72819954 0.6939273  0.09933373] A cheetah chases prey on across a field.\n",
      "A man is eating a food.\n"
     ]
    }
   ],
   "source": [
    "import numpy as np\n",
    "for query, query_embedding in zip(queries, query_embeddings):\n",
    "    distances = scipy.spatial.distance.cdist([query_embedding], corpus_embeddings, \"cosine\")[0]\n",
    "    print(distances,query)\n",
    "    print(corpus[np.argmax(distances)])"
   ]
  },
  {
   "cell_type": "code",
   "execution_count": null,
   "metadata": {},
   "outputs": [],
   "source": []
  }
 ],
 "metadata": {
  "kernelspec": {
   "display_name": "Python 3",
   "language": "python",
   "name": "python3"
  },
  "language_info": {
   "codemirror_mode": {
    "name": "ipython",
    "version": 3
   },
   "file_extension": ".py",
   "mimetype": "text/x-python",
   "name": "python",
   "nbconvert_exporter": "python",
   "pygments_lexer": "ipython3",
   "version": "3.6.9"
  }
 },
 "nbformat": 4,
 "nbformat_minor": 2
}
