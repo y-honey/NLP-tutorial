{
 "cells": [
  {
   "cell_type": "code",
   "execution_count": null,
   "metadata": {
    "_cell_guid": "b1076dfc-b9ad-4769-8c92-a6c4dae69d19",
    "_uuid": "8f2839f25d086af736a60e9eeb907d3b93b6e0e5"
   },
   "outputs": [],
   "source": [
    "import numpy as np # linear algebra\n",
    "import pandas as pd # data processing, CSV file I/O (e.g. pd.read_csv)\n",
    "import json\n",
    "import os\n",
    "from sklearn.metrics import roc_curve\n",
    "from sklearn.metrics import accuracy_score\n",
    "from sklearn.model_selection import train_test_split\n",
    "from tensorflow.keras.utils import to_categorical\n",
    "from tensorflow.keras.models import Sequential, Model\n",
    "from tensorflow.keras.layers import Input, Dense, Embedding, Activation, LSTM, SimpleRNN, Dropout\n",
    "from tensorflow.keras.optimizers import Adam\n",
    "from tensorflow.keras.preprocessing.text import Tokenizer\n",
    "from tensorflow.keras.preprocessing.sequence import pad_sequences\n",
    "import bert\n",
    "from tqdm import tqdm\n",
    "from tensorflow.keras import backend as K\n",
    "import tensorflow as tf\n",
    "import tensorflow_hub as hub\n",
    "print(\"TensorFlow Version:\",tf.__version__)\n",
    "print(\"Hub version: \",hub.__version__)"
   ]
  },
  {
   "cell_type": "code",
   "execution_count": null,
   "metadata": {
    "_cell_guid": "79c7e3d0-c299-4dcb-8224-4455121ee9b0",
    "_uuid": "d629ff2d2480ee46fbb7e2d37f6b5fab8052498a"
   },
   "outputs": [],
   "source": [
    "class LoadingData():\n",
    "            \n",
    "    def __init__(self):\n",
    "        train_file_path = os.path.join(\"benchmarking_data\",\"Train\")\n",
    "        validation_file_path = os.path.join(\"benchmarking_data\",\"Validate\")\n",
    "        category_id = 0\n",
    "        self.cat_to_intent = {}\n",
    "        self.intent_to_cat = {}\n",
    "        \n",
    "        for dirname, _, filenames in os.walk(train_file_path):\n",
    "            for filename in filenames:\n",
    "                file_path = os.path.join(dirname, filename)\n",
    "                intent_id = filename.replace(\".json\",\"\")\n",
    "                self.cat_to_intent[category_id] = intent_id\n",
    "                self.intent_to_cat[intent_id] = category_id\n",
    "                category_id+=1\n",
    "        print(self.cat_to_intent)\n",
    "        print(self.intent_to_cat)\n",
    "        '''Training data'''\n",
    "        training_data = list() \n",
    "        for dirname, _, filenames in os.walk(train_file_path):\n",
    "            for filename in filenames:\n",
    "                file_path = os.path.join(dirname, filename)\n",
    "                intent_id = filename.replace(\".json\",\"\")\n",
    "                training_data+=self.make_data_for_intent_from_json(file_path,intent_id,self.intent_to_cat[intent_id])\n",
    "        self.train_data_frame = pd.DataFrame(training_data, columns =['query', 'intent','category'])   \n",
    "        \n",
    "        self.train_data_frame = self.train_data_frame.sample(frac = 1)\n",
    "\n",
    "\n",
    "        \n",
    "        '''Validation data'''\n",
    "        validation_data = list()    \n",
    "        for dirname, _, filenames in os.walk(validation_file_path):\n",
    "            for filename in filenames:\n",
    "                file_path = os.path.join(dirname, filename)\n",
    "                intent_id = filename.replace(\".json\",\"\")\n",
    "                validation_data +=self.make_data_for_intent_from_json(file_path,intent_id,self.intent_to_cat[intent_id])                \n",
    "        self.validation_data_frame = pd.DataFrame(validation_data, columns =['query', 'intent','category'])\n",
    "\n",
    "        self.validation_data_frame = self.validation_data_frame.sample(frac = 1)\n",
    "        \n",
    "        \n",
    "    def make_data_for_intent_from_json(self,json_file,intent_id,cat):\n",
    "        json_d = json.load(open(json_file))         \n",
    "        \n",
    "        json_dict = json_d[intent_id]\n",
    "\n",
    "        sent_list = list()\n",
    "        for i in json_dict:\n",
    "            each_list = i['data']\n",
    "            sent =\"\"\n",
    "            for i in each_list:\n",
    "                sent = sent + i['text']+ \" \"\n",
    "            sent =sent[:-1]\n",
    "            for i in range(3):\n",
    "                sent = sent.replace(\"  \",\" \")\n",
    "            sent_list.append((sent,intent_id,cat))\n",
    "        return sent_list\n",
    "            "
   ]
  },
  {
   "cell_type": "code",
   "execution_count": null,
   "metadata": {},
   "outputs": [],
   "source": [
    "load_data_obj = LoadingData()"
   ]
  },
  {
   "cell_type": "code",
   "execution_count": null,
   "metadata": {},
   "outputs": [],
   "source": [
    "load_data_obj.train_data_frame.head()"
   ]
  },
  {
   "cell_type": "code",
   "execution_count": null,
   "metadata": {},
   "outputs": [],
   "source": [
    "load_data_obj.validation_data_frame.head().values"
   ]
  },
  {
   "cell_type": "code",
   "execution_count": null,
   "metadata": {},
   "outputs": [],
   "source": [
    "class BertModel(object):\n",
    "    \n",
    "    def __init__(self):\n",
    "        \n",
    "        self.max_len = 128\n",
    "        bert_path = \"https://tfhub.dev/tensorflow/bert_en_uncased_L-12_H-768_A-12/1\"\n",
    "        FullTokenizer=bert.bert_tokenization.FullTokenizer\n",
    "        \n",
    "        self.bert_module = hub.KerasLayer(bert_path,trainable=True)\n",
    "\n",
    "        self.vocab_file = self.bert_module.resolved_object.vocab_file.asset_path.numpy()\n",
    "\n",
    "        self.do_lower_case = self.bert_module.resolved_object.do_lower_case.numpy()\n",
    "\n",
    "        self.tokenizer = FullTokenizer(self.vocab_file,self.do_lower_case)\n",
    "        \n",
    "    def get_masks(self,tokens, max_seq_length):\n",
    "        return [1]*len(tokens) + [0] * (max_seq_length - len(tokens))\n",
    "\n",
    "    def get_segments(self,tokens, max_seq_length):\n",
    "        \"\"\"Segments: 0 for the first sequence, 1 for the second\"\"\"\n",
    "        segments = []\n",
    "        current_segment_id = 0\n",
    "        for token in tokens:\n",
    "            segments.append(current_segment_id)\n",
    "            if token == \"[SEP]\":\n",
    "                current_segment_id = 1\n",
    "        return segments + [0] * (max_seq_length - len(tokens))\n",
    "    \n",
    "    def get_ids(self,tokens, tokenizer, max_seq_length):\n",
    "        \"\"\"Token ids from Tokenizer vocab\"\"\"\n",
    "        token_ids = tokenizer.convert_tokens_to_ids(tokens,)\n",
    "        input_ids = token_ids + [0] * (max_seq_length-len(token_ids))\n",
    "        return input_ids\n",
    "    def create_single_input(self,sentence,maxlen):\n",
    "\n",
    "        stokens = self.tokenizer.tokenize(sentence)\n",
    "\n",
    "        stokens = stokens[:maxlen]\n",
    "\n",
    "        stokens = [\"[CLS]\"] + stokens + [\"[SEP]\"]\n",
    "\n",
    "        ids = self.get_ids(stokens, self.tokenizer, self.max_len)\n",
    "        masks = self.get_masks(stokens, self.max_len)\n",
    "        segments = self.get_segments(stokens, self.max_len)\n",
    "\n",
    "        return ids,masks,segments\n",
    "\n",
    "    def create_input_array(self,sentences):\n",
    "        \n",
    "        input_ids, input_masks, input_segments = [], [], []\n",
    "\n",
    "        for sentence in tqdm(sentences,position=0, leave=True):\n",
    "            ids,masks,segments=self.create_single_input(sentence,self.max_len-2)\n",
    "\n",
    "            input_ids.append(ids)\n",
    "            input_masks.append(masks)\n",
    "            input_segments.append(segments)\n",
    "            \n",
    "        tensor = [np.asarray(input_ids, dtype=np.int32), \n",
    "                np.asarray(input_masks, dtype=np.int32), \n",
    "                np.asarray(input_segments, dtype=np.int32)]\n",
    "        return tensor"
   ]
  },
  {
   "cell_type": "code",
   "execution_count": null,
   "metadata": {},
   "outputs": [],
   "source": [
    "class PreprocessingBertData():\n",
    "    \n",
    "    def prepare_data_x(self,train_sentences):\n",
    "        x = bert_model_obj.create_input_array(train_sentences)\n",
    "        return x\n",
    "    \n",
    "    def prepare_data_y(self,train_labels):\n",
    "        y = list()\n",
    "        for item in train_labels:\n",
    "            label = item\n",
    "            y.append(label)\n",
    "        y = np.array(y)\n",
    "        return y\n",
    "        \n"
   ]
  },
  {
   "cell_type": "code",
   "execution_count": null,
   "metadata": {},
   "outputs": [],
   "source": [
    "bert_model_obj = BertModel()"
   ]
  },
  {
   "cell_type": "code",
   "execution_count": null,
   "metadata": {},
   "outputs": [],
   "source": [
    "train_sentences = load_data_obj.train_data_frame[\"query\"].tolist()\n",
    "train_labels = load_data_obj.train_data_frame[\"category\"].tolist()\n",
    "\n",
    "preprocess_bert_data_obj = PreprocessingBertData()\n",
    "x = preprocess_bert_data_obj.prepare_data_x(train_sentences)\n",
    "y = preprocess_bert_data_obj.prepare_data_y(train_labels)\n",
    "\n",
    "train_input_ids, train_input_masks, train_segment_ids = x\n",
    "train_labels = y\n"
   ]
  },
  {
   "cell_type": "code",
   "execution_count": null,
   "metadata": {},
   "outputs": [],
   "source": [
    "class DesignModel():\n",
    "    def __init__(self):\n",
    "        self.model = None        \n",
    "        self.train_data = [train_input_ids, train_input_masks, train_segment_ids]\n",
    "        self.train_labels = train_labels\n",
    "        \n",
    "    def bert_model(self,max_seq_length): \n",
    "        in_id = Input(shape=(max_seq_length,), dtype=tf.int32, name=\"input_ids\")\n",
    "        in_mask = Input(shape=(max_seq_length,), dtype=tf.int32, name=\"input_masks\")\n",
    "        in_segment = Input(shape=(max_seq_length,), dtype=tf.int32, name=\"segment_ids\")\n",
    "        \n",
    "        bert_inputs = [in_id, in_mask, in_segment]\n",
    "        bert_pooled_output, bert_sequence_output = bert_model_obj.bert_module(bert_inputs)\n",
    "        \n",
    "        bert_output = tf.keras.layers.GlobalAveragePooling1D()(sequence_output)\n",
    "        bert_output = tf.keras.layers.Dropout(0.2)(bert_output)\n",
    "        bert_outputs = tf.keras.layers.Dense(len(load_data_obj.cat_to_intent), activation=\"softmax\", name=\"dense_output\")(x)\n",
    "        self.model = tf.keras.models.Model(inputs=bert_inputs, outputs=bert_outputs)\n",
    "        \n",
    "        self.model.compile(optimizer=tf.keras.optimizers.Adam(1e-5),\n",
    "                           loss=tf.keras.losses.SparseCategoricalCrossentropy(from_logits=True),\n",
    "                           metrics=[tf.keras.metrics.SparseCategoricalAccuracy(name=\"acc\")])\n",
    "        \n",
    "        self.model.summary()\n",
    "    \n",
    "    def model_train(self,batch_size,num_epoch):\n",
    "        print(\"Fitting to model\")\n",
    "        \n",
    "        self.model.fit(self.train_data,self.train_labels,epochs=num_epoch,batch_size=batch_size,validation_split=0.2,shuffle=True)\n",
    "        \n",
    "        print(\"Model Training complete.\")\n",
    "\n",
    "    def save_model(self,model,model_name):    \n",
    "        self.model.save(model_name+\".h5\")\n",
    "        print(\"Model saved to Model folder.\")"
   ]
  },
  {
   "cell_type": "code",
   "execution_count": null,
   "metadata": {},
   "outputs": [],
   "source": [
    "model_obj = DesignModel()\n",
    "model_obj.bert_model(bert_model_obj.max_len)\n",
    "model_obj.model_train(32,1)"
   ]
  },
  {
   "cell_type": "code",
   "execution_count": null,
   "metadata": {},
   "outputs": [],
   "source": [
    "model_obj.save_model(model_obj.model,\"bert\")"
   ]
  },
  {
   "cell_type": "code",
   "execution_count": null,
   "metadata": {},
   "outputs": [],
   "source": [
    "class Evaluation():\n",
    "    def get_accuracy(self,actuals, predictions):\n",
    "        acc = accuracy_score(actuals, predictions)\n",
    "        return acc"
   ]
  },
  {
   "cell_type": "code",
   "execution_count": null,
   "metadata": {},
   "outputs": [],
   "source": [
    "class Prediction():\n",
    "    def __init__(self):\n",
    "        self.model = model_obj.model\n",
    "        \n",
    "    def predict_validation(self):\n",
    "        valid_sentences = load_data_obj.validation_data_frame[\"query\"].tolist()\n",
    "        valid_labels = load_data_obj.validation_data_frame[\"category\"].tolist()\n",
    "\n",
    "        preprocess_bert_data_obj = PreprocessingBertData()\n",
    "        val_x = preprocess_bert_data_obj.prepare_data_x(valid_sentences)\n",
    "        prediction_labels = list(self.model.predict(val_x).argmax(axis=-1))\n",
    "        return valid_labels,prediction_labels\n",
    "        \n",
    "    \n",
    "    def predict(self,query):\n",
    "        query_seq = bert_model_obj.create_input_array([query])\n",
    "        pred = self.model.predict(query_seq)\n",
    "        pred = np.argmax(pred)\n",
    "        result = load_data_obj.cat_to_intent[pred]\n",
    "        return result"
   ]
  },
  {
   "cell_type": "code",
   "execution_count": null,
   "metadata": {},
   "outputs": [],
   "source": [
    "pred_obj = Prediction()\n",
    "#pred_obj.predict_validation()"
   ]
  },
  {
   "cell_type": "code",
   "execution_count": null,
   "metadata": {},
   "outputs": [],
   "source": [
    "querylist = [['I want to see Medal for the General', 'SearchScreeningEvent', 1],\n",
    "       ['Book a reservation for 5 people at the top-rated brasserie restaurant',\n",
    "        'BookRestaurant', 5],\n",
    "       ['Can I put this tune onto my sin estres playlist?',\n",
    "        'AddToPlaylist', 6],\n",
    "       ['add the artist Pete Murray to my relaxing playlist',\n",
    "        'AddToPlaylist', 6],\n",
    "       ['Book me a reservation for a party of 3 at a pub in Northern Mariana Islands',\n",
    "        'BookRestaurant', 5]]\n",
    "for query in querylist:\n",
    "    result = pred_obj.predict(query[0])\n",
    "    print(\"Predicted Intent: \"+str(result)+\"\\tActual Intent: \"+(load_data_obj.cat_to_intent[query[2]])+\"\\tQuery: \"+str(query[0]))\n"
   ]
  },
  {
   "cell_type": "code",
   "execution_count": null,
   "metadata": {},
   "outputs": [],
   "source": [
    "eval_obj = Evaluation()\n",
    "ytest,ypred = pred_obj.predict_validation()\n",
    "acc = eval_obj.get_accuracy(ytest,ypred)\n",
    "print(\"Auc: {:.2%}\".format(acc))\n"
   ]
  }
 ],
 "metadata": {
  "kernelspec": {
   "display_name": "Python 3",
   "language": "python",
   "name": "python3"
  },
  "language_info": {
   "codemirror_mode": {
    "name": "ipython",
    "version": 3
   },
   "file_extension": ".py",
   "mimetype": "text/x-python",
   "name": "python",
   "nbconvert_exporter": "python",
   "pygments_lexer": "ipython3",
   "version": "3.6.9"
  }
 },
 "nbformat": 4,
 "nbformat_minor": 4
}
