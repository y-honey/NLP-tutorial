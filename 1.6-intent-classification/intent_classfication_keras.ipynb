{
  "nbformat": 4,
  "nbformat_minor": 0,
  "metadata": {
    "kernelspec": {
      "display_name": "Python 3",
      "language": "python",
      "name": "python3"
    },
    "language_info": {
      "codemirror_mode": {
        "name": "ipython",
        "version": 3
      },
      "file_extension": ".py",
      "mimetype": "text/x-python",
      "name": "python",
      "nbconvert_exporter": "python",
      "pygments_lexer": "ipython3",
      "version": "3.6.9"
    },
    "colab": {
      "name": "intent_classfication_keras.ipynb",
      "provenance": [],
      "collapsed_sections": []
    },
    "accelerator": "GPU"
  },
  "cells": [
    {
      "cell_type": "code",
      "metadata": {
        "_cell_guid": "b1076dfc-b9ad-4769-8c92-a6c4dae69d19",
        "_uuid": "8f2839f25d086af736a60e9eeb907d3b93b6e0e5",
        "id": "H9qTF3ffa7Pc",
        "colab_type": "code",
        "colab": {}
      },
      "source": [
        "# Data\n",
        "# "
      ],
      "execution_count": 1,
      "outputs": []
    },
    {
      "cell_type": "code",
      "metadata": {
        "id": "dVcaGQx5bw1n",
        "colab_type": "code",
        "colab": {}
      },
      "source": [
        "import numpy as np\n",
        "import pandas as pd\n",
        "import json\n",
        "import os\n",
        "import en_core_web_sm\n",
        "from sklearn.metrics import roc_curve\n",
        "from sklearn.metrics import accuracy_score\n",
        "from sklearn.model_selection import train_test_split\n",
        "from tensorflow.keras.utils import to_categorical\n",
        "from tensorflow.keras.models import Sequential, Model, load_model\n",
        "from tensorflow.keras.layers import Input, Dense, GRU, Embedding, Bidirectional, Activation\n",
        "from tensorflow.keras.optimizers import Adam\n",
        "from tensorflow.keras.preprocessing.text import Tokenizer\n",
        "from tensorflow.keras.preprocessing.sequence import pad_sequences\n",
        "from tensorflow.keras.layers import LSTM\n",
        "from tensorflow.keras.layers import SimpleRNN\n",
        "from tensorflow.keras.layers import Conv1D\n",
        "from tensorflow.keras.layers import Dropout\n",
        "from tensorflow.keras.layers import BatchNormalization\n",
        "from tensorflow.keras.layers import GlobalMaxPooling1D\n",
        "from tensorflow.keras.preprocessing.text import Tokenizer\n",
        "from tensorflow.keras.preprocessing.sequence import pad_sequences"
      ],
      "execution_count": 18,
      "outputs": []
    },
    {
      "cell_type": "code",
      "metadata": {
        "id": "lystXd0mbNXk",
        "colab_type": "code",
        "colab": {
          "base_uri": "https://localhost:8080/",
          "height": 121
        },
        "outputId": "a9dcaebf-a417-408f-8fa8-11ed934a3efb"
      },
      "source": [
        "from google.colab import drive\n",
        "drive.mount(\"/content/drive\")"
      ],
      "execution_count": 3,
      "outputs": [
        {
          "output_type": "stream",
          "text": [
            "Go to this URL in a browser: https://accounts.google.com/o/oauth2/auth?client_id=947318989803-6bn6qk8qdgf4n4g3pfee6491hc0brc4i.apps.googleusercontent.com&redirect_uri=urn%3aietf%3awg%3aoauth%3a2.0%3aoob&scope=email%20https%3a%2f%2fwww.googleapis.com%2fauth%2fdocs.test%20https%3a%2f%2fwww.googleapis.com%2fauth%2fdrive%20https%3a%2f%2fwww.googleapis.com%2fauth%2fdrive.photos.readonly%20https%3a%2f%2fwww.googleapis.com%2fauth%2fpeopleapi.readonly&response_type=code\n",
            "\n",
            "Enter your authorization code:\n",
            "··········\n",
            "Mounted at /content/drive\n"
          ],
          "name": "stdout"
        }
      ]
    },
    {
      "cell_type": "code",
      "metadata": {
        "_cell_guid": "79c7e3d0-c299-4dcb-8224-4455121ee9b0",
        "_uuid": "d629ff2d2480ee46fbb7e2d37f6b5fab8052498a",
        "id": "jIf3M0bca7Pg",
        "colab_type": "code",
        "colab": {}
      },
      "source": [
        "class LoadingData():\n",
        "            \n",
        "    def __init__(self):\n",
        "        data_dir = \"/content/drive/My Drive/Projects/Data\"\n",
        "        train_file_path = os.path.join(data_dir,\"benchmarking_data\",\"Train\")\n",
        "        validation_file_path = os.path.join(data_dir,\"benchmarking_data\",\"Validate\")\n",
        "        category_id = 0\n",
        "        self.cat_to_intent = {}\n",
        "        self.intent_to_cat = {}\n",
        "        \n",
        "        for dirname, _, filenames in os.walk(train_file_path):\n",
        "            for filename in filenames:\n",
        "                file_path = os.path.join(dirname, filename)\n",
        "                intent_id = filename.replace(\".json\",\"\")\n",
        "                self.cat_to_intent[category_id] = intent_id\n",
        "                self.intent_to_cat[intent_id] = category_id\n",
        "                category_id+=1\n",
        "        '''Training data'''\n",
        "        training_data = list() \n",
        "        for dirname, _, filenames in os.walk(train_file_path):\n",
        "            for filename in filenames:\n",
        "                file_path = os.path.join(dirname, filename)\n",
        "                intent_id = filename.replace(\".json\",\"\")\n",
        "                training_data+=self.make_data_for_intent_from_json(file_path,intent_id,self.intent_to_cat[intent_id])\n",
        "        self.train_data_frame = pd.DataFrame(training_data, columns =['query', 'intent','category'])   \n",
        "        \n",
        "        self.train_data_frame = self.train_data_frame.sample(frac = 1)\n",
        "\n",
        "\n",
        "        \n",
        "        '''Validation data'''\n",
        "        validation_data = list()    \n",
        "        for dirname, _, filenames in os.walk(validation_file_path):\n",
        "            for filename in filenames:\n",
        "                file_path = os.path.join(dirname, filename)\n",
        "                intent_id = filename.replace(\".json\",\"\")\n",
        "                validation_data +=self.make_data_for_intent_from_json(file_path,intent_id,self.intent_to_cat[intent_id])                \n",
        "        self.validation_data_frame = pd.DataFrame(validation_data, columns =['query', 'intent','category'])\n",
        "\n",
        "        self.validation_data_frame = self.validation_data_frame.sample(frac = 1)\n",
        "        \n",
        "        \n",
        "    def make_data_for_intent_from_json(self,json_file,intent_id,cat):\n",
        "        json_d = json.load(open(json_file))         \n",
        "        \n",
        "        json_dict = json_d[intent_id]\n",
        "\n",
        "        sent_list = list()\n",
        "        for i in json_dict:\n",
        "            each_list = i['data']\n",
        "            sent =\"\"\n",
        "            for i in each_list:\n",
        "                sent = sent + i['text']+ \" \"\n",
        "            sent =sent[:-1]\n",
        "            for i in range(3):\n",
        "                sent = sent.replace(\"  \",\" \")\n",
        "            sent_list.append((sent,intent_id,cat))\n",
        "        return sent_list\n",
        "            "
      ],
      "execution_count": 7,
      "outputs": []
    },
    {
      "cell_type": "code",
      "metadata": {
        "id": "CpWQixmea7Pi",
        "colab_type": "code",
        "colab": {}
      },
      "source": [
        "load_data_obj = LoadingData()"
      ],
      "execution_count": 8,
      "outputs": []
    },
    {
      "cell_type": "code",
      "metadata": {
        "id": "Hy352jKEa7Pl",
        "colab_type": "code",
        "colab": {
          "base_uri": "https://localhost:8080/",
          "height": 195
        },
        "outputId": "70dc188d-ad57-4a29-c184-aac5abb806ae"
      },
      "source": [
        "load_data_obj.train_data_frame.head()"
      ],
      "execution_count": 10,
      "outputs": [
        {
          "output_type": "execute_result",
          "data": {
            "text/html": [
              "<div>\n",
              "<style scoped>\n",
              "    .dataframe tbody tr th:only-of-type {\n",
              "        vertical-align: middle;\n",
              "    }\n",
              "\n",
              "    .dataframe tbody tr th {\n",
              "        vertical-align: top;\n",
              "    }\n",
              "\n",
              "    .dataframe thead th {\n",
              "        text-align: right;\n",
              "    }\n",
              "</style>\n",
              "<table border=\"1\" class=\"dataframe\">\n",
              "  <thead>\n",
              "    <tr style=\"text-align: right;\">\n",
              "      <th></th>\n",
              "      <th>query</th>\n",
              "      <th>intent</th>\n",
              "      <th>category</th>\n",
              "    </tr>\n",
              "  </thead>\n",
              "  <tbody>\n",
              "    <tr>\n",
              "      <th>8770</th>\n",
              "      <td>rate the current novel 5 stars</td>\n",
              "      <td>RateBook</td>\n",
              "      <td>4</td>\n",
              "    </tr>\n",
              "    <tr>\n",
              "      <th>6557</th>\n",
              "      <td>Find the schedule for Kingsman: The Secret Ser...</td>\n",
              "      <td>SearchScreeningEvent</td>\n",
              "      <td>3</td>\n",
              "    </tr>\n",
              "    <tr>\n",
              "      <th>721</th>\n",
              "      <td>find Bells Break Their Towers , a video game</td>\n",
              "      <td>SearchCreativeWork</td>\n",
              "      <td>0</td>\n",
              "    </tr>\n",
              "    <tr>\n",
              "      <th>229</th>\n",
              "      <td>show creativity of A Catholic Education</td>\n",
              "      <td>SearchCreativeWork</td>\n",
              "      <td>0</td>\n",
              "    </tr>\n",
              "    <tr>\n",
              "      <th>3680</th>\n",
              "      <td>Will it be warm in Powersville Guam 23 hours f...</td>\n",
              "      <td>GetWeather</td>\n",
              "      <td>1</td>\n",
              "    </tr>\n",
              "  </tbody>\n",
              "</table>\n",
              "</div>"
            ],
            "text/plain": [
              "                                                  query  ... category\n",
              "8770                     rate the current novel 5 stars  ...        4\n",
              "6557  Find the schedule for Kingsman: The Secret Ser...  ...        3\n",
              "721        find Bells Break Their Towers , a video game  ...        0\n",
              "229             show creativity of A Catholic Education  ...        0\n",
              "3680  Will it be warm in Powersville Guam 23 hours f...  ...        1\n",
              "\n",
              "[5 rows x 3 columns]"
            ]
          },
          "metadata": {
            "tags": []
          },
          "execution_count": 10
        }
      ]
    },
    {
      "cell_type": "code",
      "metadata": {
        "id": "GSDQwGEBa7Pn",
        "colab_type": "code",
        "colab": {
          "base_uri": "https://localhost:8080/",
          "height": 195
        },
        "outputId": "c7ec5bc6-af6d-4899-d9f6-244d00b7369e"
      },
      "source": [
        "load_data_obj.validation_data_frame.head()"
      ],
      "execution_count": 11,
      "outputs": [
        {
          "output_type": "execute_result",
          "data": {
            "text/html": [
              "<div>\n",
              "<style scoped>\n",
              "    .dataframe tbody tr th:only-of-type {\n",
              "        vertical-align: middle;\n",
              "    }\n",
              "\n",
              "    .dataframe tbody tr th {\n",
              "        vertical-align: top;\n",
              "    }\n",
              "\n",
              "    .dataframe thead th {\n",
              "        text-align: right;\n",
              "    }\n",
              "</style>\n",
              "<table border=\"1\" class=\"dataframe\">\n",
              "  <thead>\n",
              "    <tr style=\"text-align: right;\">\n",
              "      <th></th>\n",
              "      <th>query</th>\n",
              "      <th>intent</th>\n",
              "      <th>category</th>\n",
              "    </tr>\n",
              "  </thead>\n",
              "  <tbody>\n",
              "    <tr>\n",
              "      <th>699</th>\n",
              "      <td>I want to see Married to the Enemy 2 at a cine...</td>\n",
              "      <td>SearchScreeningEvent</td>\n",
              "      <td>3</td>\n",
              "    </tr>\n",
              "    <tr>\n",
              "      <th>22</th>\n",
              "      <td>Please look up the song The Mad Magician .</td>\n",
              "      <td>SearchCreativeWork</td>\n",
              "      <td>0</td>\n",
              "    </tr>\n",
              "    <tr>\n",
              "      <th>139</th>\n",
              "      <td>rate the current essay zero out of 6 stars</td>\n",
              "      <td>RateBook</td>\n",
              "      <td>4</td>\n",
              "    </tr>\n",
              "    <tr>\n",
              "      <th>599</th>\n",
              "      <td>Add the album to my Club Hits playlist.</td>\n",
              "      <td>AddToPlaylist</td>\n",
              "      <td>6</td>\n",
              "    </tr>\n",
              "    <tr>\n",
              "      <th>16</th>\n",
              "      <td>Please help me find the Late Night Heartbroken...</td>\n",
              "      <td>SearchCreativeWork</td>\n",
              "      <td>0</td>\n",
              "    </tr>\n",
              "  </tbody>\n",
              "</table>\n",
              "</div>"
            ],
            "text/plain": [
              "                                                 query  ... category\n",
              "699  I want to see Married to the Enemy 2 at a cine...  ...        3\n",
              "22          Please look up the song The Mad Magician .  ...        0\n",
              "139         rate the current essay zero out of 6 stars  ...        4\n",
              "599            Add the album to my Club Hits playlist.  ...        6\n",
              "16   Please help me find the Late Night Heartbroken...  ...        0\n",
              "\n",
              "[5 rows x 3 columns]"
            ]
          },
          "metadata": {
            "tags": []
          },
          "execution_count": 11
        }
      ]
    },
    {
      "cell_type": "code",
      "metadata": {
        "id": "tRmVRiTCa7Pp",
        "colab_type": "code",
        "colab": {}
      },
      "source": [
        "class Preprocessing():\n",
        "    def __init__(self):\n",
        "        self.x_train = None\n",
        "        self.y_train = None\n",
        "        self.x_valid = None\n",
        "        self.y_valid = None\n",
        "        self.spacy_model = en_core_web_sm.load()\n",
        "        self.tokenizer = None\n",
        "\n",
        "    def createData(self):\n",
        "        self.tokenizer = Tokenizer(num_words=None)\n",
        "        self.max_len = 50\n",
        "        self.x_train, self.x_valid, self.y_train, self.y_valid = train_test_split(load_data_obj.train_data_frame['query'].tolist(),load_data_obj.train_data_frame['category'].tolist(),test_size=0.1)\n",
        "        self.tokenizer.fit_on_texts(list(self.x_train) + list(self.x_valid))\n",
        "        self.x_train = self.tokenizer.texts_to_sequences(self.x_train)\n",
        "        self.x_valid = self.tokenizer.texts_to_sequences(self.x_valid)\n",
        "\n",
        "        #zero pad the sequences\n",
        "        self.x_train = pad_sequences(self.x_train, maxlen=self.max_len)\n",
        "        self.x_valid = pad_sequences(self.x_valid, maxlen=self.max_len)\n",
        "        self.y_train = to_categorical(self.y_train)\n",
        "        self.y_valid = to_categorical(self.y_valid)\n",
        "        self.word_index = self.tokenizer.word_index\n",
        "        \n",
        "    def getSpacyEmbeddings(self,sentneces):\n",
        "        sentences_vectors = list()\n",
        "        for item in sentneces:\n",
        "            query_vec = self.spacy_model(item) \n",
        "            sentences_vectors.append(query_vec.vector)\n",
        "        return sentences_vectors\n",
        "    \n",
        "    \n",
        "    \n",
        "    \n",
        "        "
      ],
      "execution_count": 12,
      "outputs": []
    },
    {
      "cell_type": "code",
      "metadata": {
        "id": "LoyTb5Gza7Pr",
        "colab_type": "code",
        "colab": {}
      },
      "source": [
        "preprocess_obj = Preprocessing()\n",
        "preprocess_obj.createData()"
      ],
      "execution_count": 13,
      "outputs": []
    },
    {
      "cell_type": "code",
      "metadata": {
        "id": "rYI77Z4za7Pt",
        "colab_type": "code",
        "colab": {
          "base_uri": "https://localhost:8080/",
          "height": 34
        },
        "outputId": "5bccac12-dacc-497c-8413-5734ca64df0b"
      },
      "source": [
        "preprocess_obj.y_train.shape"
      ],
      "execution_count": 14,
      "outputs": [
        {
          "output_type": "execute_result",
          "data": {
            "text/plain": [
              "(12405, 7)"
            ]
          },
          "metadata": {
            "tags": []
          },
          "execution_count": 14
        }
      ]
    },
    {
      "cell_type": "code",
      "metadata": {
        "id": "ZHI2TUvNa7Pv",
        "colab_type": "code",
        "colab": {
          "base_uri": "https://localhost:8080/",
          "height": 34
        },
        "outputId": "4b1f3c97-2873-4c48-8d51-492e70e70828"
      },
      "source": [
        "preprocess_obj.y_valid.shape"
      ],
      "execution_count": 15,
      "outputs": [
        {
          "output_type": "execute_result",
          "data": {
            "text/plain": [
              "(1379, 7)"
            ]
          },
          "metadata": {
            "tags": []
          },
          "execution_count": 15
        }
      ]
    },
    {
      "cell_type": "code",
      "metadata": {
        "id": "T3WXq62ha7Px",
        "colab_type": "code",
        "colab": {}
      },
      "source": [
        "class DesignModel():\n",
        "    def __init__(self):\n",
        "        self.model = None\n",
        "        self.x_train = preprocess_obj.x_train\n",
        "        self.y_train = preprocess_obj.y_train\n",
        "        self.x_valid = preprocess_obj.x_valid\n",
        "        self.y_valid = preprocess_obj.y_valid\n",
        "        \n",
        "    def simple_rnn(self):\n",
        "        self.model = Sequential()\n",
        "        self.model.add(Embedding(len(preprocess_obj.word_index) + 1,100,input_length=preprocess_obj.max_len))\n",
        "        self.model.add(SimpleRNN(100))\n",
        "        self.model.add(Dense(len(load_data_obj.cat_to_intent), activation='sigmoid'))\n",
        "        self.model.compile(loss='categorical_crossentropy', optimizer='adam', metrics=['accuracy'])\n",
        "        \n",
        "        \n",
        "    def model_train(self,batch_size,num_epoch):\n",
        "        print(\"Fitting to model\")\n",
        "        self.model.fit(self.x_train, self.y_train, batch_size=batch_size, epochs=num_epoch, validation_data=[self.x_valid, self.y_valid])\n",
        "        print(\"Model Training complete.\")\n",
        "\n",
        "    def save_model(self,model_name):    \n",
        "        self.model.save(model_name+\".h5\")\n",
        "        print(\"Model saved to Model folder.\")"
      ],
      "execution_count": 24,
      "outputs": []
    },
    {
      "cell_type": "code",
      "metadata": {
        "id": "Tye8X7FFa7Pz",
        "colab_type": "code",
        "colab": {
          "base_uri": "https://localhost:8080/",
          "height": 235
        },
        "outputId": "3e26c58d-4bef-4bd1-f789-9662a0243bef"
      },
      "source": [
        "model_obj = DesignModel()\n",
        "model_obj.simple_rnn()\n",
        "model_obj.model_train(64,5)\n",
        "model_obj.save_model(\"srnn\")"
      ],
      "execution_count": 25,
      "outputs": [
        {
          "output_type": "stream",
          "text": [
            "Fitting to model\n",
            "Epoch 1/5\n",
            "194/194 [==============================] - 9s 46ms/step - loss: 0.8717 - accuracy: 0.8039 - val_loss: 0.0000e+00 - val_accuracy: 0.0000e+00\n",
            "Epoch 2/5\n",
            "194/194 [==============================] - 9s 46ms/step - loss: 0.0855 - accuracy: 0.9852 - val_loss: 0.0000e+00 - val_accuracy: 0.0000e+00\n",
            "Epoch 3/5\n",
            "194/194 [==============================] - 9s 46ms/step - loss: 0.0321 - accuracy: 0.9948 - val_loss: 0.0000e+00 - val_accuracy: 0.0000e+00\n",
            "Epoch 4/5\n",
            "194/194 [==============================] - 9s 45ms/step - loss: 0.0157 - accuracy: 0.9980 - val_loss: 0.0000e+00 - val_accuracy: 0.0000e+00\n",
            "Epoch 5/5\n",
            "194/194 [==============================] - 9s 45ms/step - loss: 0.0098 - accuracy: 0.9990 - val_loss: 0.0000e+00 - val_accuracy: 0.0000e+00\n",
            "Model Training complete.\n",
            "Model saved to Model folder.\n"
          ],
          "name": "stdout"
        }
      ]
    },
    {
      "cell_type": "code",
      "metadata": {
        "id": "sZ1dlcGta7P1",
        "colab_type": "code",
        "colab": {}
      },
      "source": [
        "class Evaluation():\n",
        "    def get_accuracy(self,actuals, predictions):\n",
        "        acc = accuracy_score(actuals, predictions)\n",
        "        return acc"
      ],
      "execution_count": 26,
      "outputs": []
    },
    {
      "cell_type": "code",
      "metadata": {
        "id": "UdXO8h31a7P3",
        "colab_type": "code",
        "colab": {}
      },
      "source": [
        "class Prediction():\n",
        "    def __init__(self,model_name):\n",
        "        self.model = load_model(model_name+\".h5\")\n",
        "        self.tokenizer = preprocess_obj.tokenizer\n",
        "        self.max_len = preprocess_obj.max_len\n",
        "        \n",
        "    def predict_validation(self):\n",
        "        self.xtest = load_data_obj.validation_data_frame['query'].tolist()\n",
        "        self.ytest = load_data_obj.validation_data_frame['category'].tolist()\n",
        "        self.xtest = self.tokenizer.texts_to_sequences(self.xtest)\n",
        "        self.xtest = pad_sequences(self.xtest, maxlen=self.max_len)\n",
        "        self.ypred = self.model.predict(self.xtest)\n",
        "        self.ypred = [np.argmax(item) for item in self.ypred]\n",
        "    \n",
        "    def predict(self,query):\n",
        "        query_seq = self.tokenizer.texts_to_sequences([query])\n",
        "        query_pad = pad_sequences(query_seq, maxlen=self.max_len)\n",
        "        pred = self.model.predict(query_pad)\n",
        "        pred = np.argmax(pred)\n",
        "        result = load_data_obj.cat_to_intent[pred]\n",
        "        return result"
      ],
      "execution_count": 27,
      "outputs": []
    },
    {
      "cell_type": "code",
      "metadata": {
        "id": "1QAb7Mr-a7P5",
        "colab_type": "code",
        "colab": {}
      },
      "source": [
        "pred_obj = Prediction(\"srnn\")\n",
        "pred_obj.predict_validation()"
      ],
      "execution_count": 28,
      "outputs": []
    },
    {
      "cell_type": "code",
      "metadata": {
        "id": "8bX7S8VFa7P6",
        "colab_type": "code",
        "colab": {
          "base_uri": "https://localhost:8080/",
          "height": 101
        },
        "outputId": "909f7973-a5de-44cd-b027-7a55a13d5efd"
      },
      "source": [
        "querylist = [\n",
        "    'rate The Gift: Imagination and the Erotic Life of Property five stars',\n",
        "     'table for Breadline Cafe in Minnesota next friday',\n",
        "     'Will it be hot at 13:19 in De Funiak Springs Serbia and Montenegro ?',\n",
        "     'Play some sixties songs on Google Music',\n",
        "     'rate this textbook four out of 6']\n",
        "for query in querylist:\n",
        "    result = pred_obj.predict(query)\n",
        "    print(\"Intent: \"+str(result)+\"\\tQuery: \"+str(query))"
      ],
      "execution_count": 29,
      "outputs": [
        {
          "output_type": "stream",
          "text": [
            "Intent: RateBook\tQuery: rate The Gift: Imagination and the Erotic Life of Property five stars\n",
            "Intent: BookRestaurant\tQuery: table for Breadline Cafe in Minnesota next friday\n",
            "Intent: GetWeather\tQuery: Will it be hot at 13:19 in De Funiak Springs Serbia and Montenegro ?\n",
            "Intent: PlayMusic\tQuery: Play some sixties songs on Google Music\n",
            "Intent: RateBook\tQuery: rate this textbook four out of 6\n"
          ],
          "name": "stdout"
        }
      ]
    },
    {
      "cell_type": "code",
      "metadata": {
        "id": "gCFpIFH_a7P8",
        "colab_type": "code",
        "colab": {
          "base_uri": "https://localhost:8080/",
          "height": 34
        },
        "outputId": "d82b6973-49a1-462a-a0ca-661357100520"
      },
      "source": [
        "eval_obj = Evaluation()\n",
        "acc = eval_obj.get_accuracy(pred_obj.ytest,pred_obj.ypred)\n",
        "print(\"Auc: {:.2%}\".format(acc))\n"
      ],
      "execution_count": 30,
      "outputs": [
        {
          "output_type": "stream",
          "text": [
            "Auc: 97.14%\n"
          ],
          "name": "stdout"
        }
      ]
    }
  ]
}