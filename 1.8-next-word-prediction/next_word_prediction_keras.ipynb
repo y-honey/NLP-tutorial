{
 "cells": [
  {
   "cell_type": "markdown",
   "metadata": {},
   "source": [
    "<h1>Next Word Prediction Model Using Tensorflow & keras<h1> "
   ]
  },
  {
   "cell_type": "markdown",
   "metadata": {},
   "source": [
    "<h5>Importing Libraries<h5>"
   ]
  },
  {
   "cell_type": "code",
   "execution_count": null,
   "metadata": {},
   "outputs": [],
   "source": [
    "from numpy import array\n",
    "import numpy as np\n",
    "import tensorflow as tf\n",
    "from tensorflow.keras.preprocessing.text import Tokenizer\n",
    "from tensorflow.keras.utils import to_categorical\n",
    "from tensorflow.keras.preprocessing.sequence import pad_sequences\n",
    "from tensorflow.keras.models import Sequential\n",
    "from tensorflow.keras.layers import Dense\n",
    "from tensorflow.keras.layers import LSTM\n",
    "from tensorflow.keras.layers import Dropout\n",
    "from tensorflow.keras.layers import Embedding\n",
    "from tensorflow.keras.models import load_model\n"
   ]
  },
  {
   "cell_type": "markdown",
   "metadata": {},
   "source": [
    "<h5>Preprocessing Data<h5>"
   ]
  },
  {
   "cell_type": "code",
   "execution_count": null,
   "metadata": {},
   "outputs": [],
   "source": [
    "class Preprocessing():\n",
    "    \n",
    "    def __init__(self,input_file):\n",
    "        self.input_data_file = input_file\n",
    "        self.data = None\n",
    "        self.vocab_size = None\n",
    "        self.encoded_data = None\n",
    "        self.max_length = None\n",
    "        self.sequences = None\n",
    "        self.x = None\n",
    "        self.y = None\n",
    "        self.tokenizer = None\n",
    "    \n",
    "    def load_data(self):\n",
    "        fp = open(self.input_data_file,'r')\n",
    "        self.data = fp.read().splitlines()        \n",
    "        fp.close()\n",
    "        \n",
    "    def encode_data(self):\n",
    "        self.tokenizer = Tokenizer()\n",
    "        self.tokenizer.fit_on_texts(self.data)\n",
    "        self.encoded_data = self.tokenizer.texts_to_sequences(self.data)\n",
    "        self.vocab_size = len(self.tokenizer.word_counts)+1\n",
    "        \n",
    "    def generate_sequence(self):\n",
    "        seq_list = list()\n",
    "        for item in self.encoded_data:\n",
    "            l = len(item)\n",
    "            for id in range(1,l):\n",
    "                seq_list.append(item[:id+1])\n",
    "        self.max_length = max([len(seq) for seq in seq_list])\n",
    "        self.sequences = pad_sequences(seq_list, maxlen=self.max_length, padding='pre')\n",
    "        self.sequences = array(self.sequences)\n",
    "            \n",
    "    def get_data(self):\n",
    "        self.x = self.sequences[:,:-1]\n",
    "        self.y = self.sequences[:,-1]\n",
    "        self.y = to_categorical(self.y,num_classes=self.vocab_size)"
   ]
  },
  {
   "cell_type": "code",
   "execution_count": null,
   "metadata": {},
   "outputs": [],
   "source": [
    "pr = Preprocessing('cab_booking.txt')\n",
    "pr.load_data()\n",
    "pr.encode_data()\n",
    "pr.generate_sequence()\n",
    "pr.get_data()"
   ]
  },
  {
   "cell_type": "markdown",
   "metadata": {},
   "source": [
    "<h3>Model"
   ]
  },
  {
   "cell_type": "code",
   "execution_count": null,
   "metadata": {},
   "outputs": [],
   "source": [
    "class Model():\n",
    "    def __init__(self):\n",
    "        self.model = None\n",
    "        self.history = None\n",
    "        self.x = None\n",
    "        self.y = None\n",
    "        self.vocab_size = pr.vocab_size\n",
    "        self.max_len = pr.max_length\n",
    "        \n",
    "        \n",
    "    def create_model(self):\n",
    "        self.model = Sequential()\n",
    "        self.model.add(Embedding(self.vocab_size,10,input_length=self.max_len-1))\n",
    "        self.model.add(LSTM(50))\n",
    "        self.model.add(Dropout(0.1))\n",
    "        self.model.add(Dense(self.vocab_size,activation='softmax'))\n",
    "        self.model.compile(loss='categorical_crossentropy',optimizer='adam',metrics=['accuracy'])\n",
    "        print(self.model.summary())\n",
    "    def run(self,epochs,batch_size):\n",
    "        self.history = self.model.fit(self.x,self.y,epochs=epochs,batch_size=batch_size,validation_split=0.2)\n",
    "        \n",
    "    def save(self):\n",
    "        self.model.save(\"word_prediction_model.h5\")\n",
    "        "
   ]
  },
  {
   "cell_type": "code",
   "execution_count": null,
   "metadata": {},
   "outputs": [],
   "source": [
    "model_obj = Model()\n",
    "model_obj.x = pr.x\n",
    "model_obj.y = pr.y\n",
    "model_obj.create_model()"
   ]
  },
  {
   "cell_type": "code",
   "execution_count": null,
   "metadata": {},
   "outputs": [],
   "source": [
    "model_obj.run(700,2)\n",
    "model_obj.save()"
   ]
  },
  {
   "cell_type": "markdown",
   "metadata": {},
   "source": [
    "<h4>Prediction"
   ]
  },
  {
   "cell_type": "code",
   "execution_count": null,
   "metadata": {},
   "outputs": [],
   "source": [
    "class Prediction():\n",
    "    def __init__(self,tokenizer,max_len):\n",
    "        self.model = None\n",
    "        self.tokenizer = tokenizer\n",
    "        self.idx2word = {v:k for k,v in self.tokenizer.word_index.items()}\n",
    "        self.max_length = max_len\n",
    "    \n",
    "    def load_model(self):\n",
    "        self.model = load_model(\"word_prediction_model.h5\")\n",
    "        \n",
    "    def predict_words(self,text,num_words):\n",
    "        encoded_data = self.tokenizer.texts_to_sequences([text])[0]\n",
    "        padded_data = pad_sequences([encoded_data],maxlen = self.max_length-1,padding='pre')\n",
    "        y_preds = self.model.predict(padded_data)\n",
    "        y_preds = np.argsort(-y_preds)\n",
    "        y_preds = y_preds[0][:num_words]\n",
    "        possible_words = [self.idx2word[item] for item in y_preds]\n",
    "        print(text,possible_words)\n",
    "        print(possible_words)\n"
   ]
  },
  {
   "cell_type": "code",
   "execution_count": null,
   "metadata": {},
   "outputs": [],
   "source": [
    "pred = Prediction(pr.tokenizer,pr.max_length)    \n",
    "pred.load_model()"
   ]
  },
  {
   "cell_type": "code",
   "execution_count": null,
   "metadata": {},
   "outputs": [],
   "source": [
    "pred.predict_words(\"I would like to\",2)\n",
    "pred.predict_words(\"can you please\",2)"
   ]
  }
 ],
 "metadata": {
  "kernelspec": {
   "display_name": "Python 3",
   "language": "python",
   "name": "python3"
  },
  "language_info": {
   "codemirror_mode": {
    "name": "ipython",
    "version": 3
   },
   "file_extension": ".py",
   "mimetype": "text/x-python",
   "name": "python",
   "nbconvert_exporter": "python",
   "pygments_lexer": "ipython3",
   "version": "3.6.9"
  }
 },
 "nbformat": 4,
 "nbformat_minor": 2
}
