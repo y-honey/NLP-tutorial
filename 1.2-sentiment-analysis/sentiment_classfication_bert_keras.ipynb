{
 "cells": [
  {
   "cell_type": "code",
   "execution_count": null,
   "metadata": {},
   "outputs": [],
   "source": [
    "import tensorflow as tf\n",
    "import pandas as pd\n",
    "import tensorflow_hub as hub\n",
    "import bert\n",
    "import os\n",
    "import re\n",
    "import numpy as np\n",
    "from tqdm import tqdm\n",
    "from tqdm import tqdm_notebook\n",
    "from tensorflow.keras import backend as K\n",
    "from tensorflow.keras.layers import Input, Dense, Embedding, Activation, LSTM, SimpleRNN, Dropout\n",
    "from tensorflow.keras.models import Sequential, Model\n"
   ]
  },
  {
   "cell_type": "code",
   "execution_count": null,
   "metadata": {},
   "outputs": [],
   "source": [
    "class LoadData():\n",
    "    def __init__(self,csv_file):\n",
    "        self.df = pd.read_csv(os.path.join(os.getcwd(),csv_file))\n",
    "        self.train_df = None\n",
    "        self.test_df = None\n",
    "    def load_data(self):\n",
    "        self.df.columns = ['sentence','sentiment']\n",
    "        self.train_df = self.df[self.df['sentiment']=='positive']\n",
    "        self.test_df = self.df[self.df['sentiment']=='negative']\n",
    "        self.train_df.loc[self.train_df['sentiment']=='positive','polarity'] = 1\n",
    "        self.test_df.loc[self.test_df['sentiment']=='negative','polarity'] = 0\n"
   ]
  },
  {
   "cell_type": "code",
   "execution_count": null,
   "metadata": {},
   "outputs": [],
   "source": [
    "loaddata_obj = LoadData(\"imdb_dataset_small.csv\") \n",
    "loaddata_obj.load_data()"
   ]
  },
  {
   "cell_type": "code",
   "execution_count": null,
   "metadata": {},
   "outputs": [],
   "source": [
    "loaddata_obj.train_df.head()"
   ]
  },
  {
   "cell_type": "code",
   "execution_count": null,
   "metadata": {},
   "outputs": [],
   "source": [
    "loaddata_obj.test_df.head()"
   ]
  },
  {
   "cell_type": "code",
   "execution_count": null,
   "metadata": {},
   "outputs": [],
   "source": [
    "class BertModel(object):\n",
    "    \n",
    "    def __init__(self):\n",
    "        \n",
    "        self.max_len = 128\n",
    "        bert_path = \"https://tfhub.dev/tensorflow/bert_en_uncased_L-12_H-768_A-12/1\"\n",
    "        FullTokenizer=bert.bert_tokenization.FullTokenizer\n",
    "        \n",
    "        self.bert_module = hub.KerasLayer(bert_path,trainable=True)\n",
    "\n",
    "        self.vocab_file = self.bert_module.resolved_object.vocab_file.asset_path.numpy()\n",
    "\n",
    "        self.do_lower_case = self.bert_module.resolved_object.do_lower_case.numpy()\n",
    "\n",
    "        self.tokenizer = FullTokenizer(self.vocab_file,self.do_lower_case)\n",
    "        \n",
    "    def get_masks(self,tokens, max_seq_length):\n",
    "        return [1]*len(tokens) + [0] * (max_seq_length - len(tokens))\n",
    "\n",
    "    def get_segments(self,tokens, max_seq_length):\n",
    "        \"\"\"Segments: 0 for the first sequence, 1 for the second\"\"\"\n",
    "        segments = []\n",
    "        current_segment_id = 0\n",
    "        for token in tokens:\n",
    "            segments.append(current_segment_id)\n",
    "            if token == \"[SEP]\":\n",
    "                current_segment_id = 1\n",
    "        return segments + [0] * (max_seq_length - len(tokens))\n",
    "    \n",
    "    def get_ids(self,tokens, tokenizer, max_seq_length):\n",
    "        \"\"\"Token ids from Tokenizer vocab\"\"\"\n",
    "        token_ids = tokenizer.convert_tokens_to_ids(tokens,)\n",
    "        input_ids = token_ids + [0] * (max_seq_length-len(token_ids))\n",
    "        return input_ids\n",
    "    def create_single_input(self,sentence,maxlen):\n",
    "\n",
    "        stokens = self.tokenizer.tokenize(sentence)\n",
    "\n",
    "        stokens = stokens[:maxlen]\n",
    "\n",
    "        stokens = [\"[CLS]\"] + stokens + [\"[SEP]\"]\n",
    "\n",
    "        ids = self.get_ids(stokens, self.tokenizer, self.max_len)\n",
    "        masks = self.get_masks(stokens, self.max_len)\n",
    "        segments = self.get_segments(stokens, self.max_len)\n",
    "\n",
    "        return ids,masks,segments\n",
    "\n",
    "    def create_input_array(self,sentences):\n",
    "        \n",
    "        input_ids, input_masks, input_segments = [], [], []\n",
    "\n",
    "        for sentence in tqdm(sentences,position=0, leave=True):\n",
    "            ids,masks,segments=self.create_single_input(sentence,self.max_len-2)\n",
    "\n",
    "            input_ids.append(ids)\n",
    "            input_masks.append(masks)\n",
    "            input_segments.append(segments)\n",
    "            \n",
    "        tensor = [np.asarray(input_ids, dtype=np.int32), \n",
    "                np.asarray(input_masks, dtype=np.int32), \n",
    "                np.asarray(input_segments, dtype=np.int32)]\n",
    "        return tensor"
   ]
  },
  {
   "cell_type": "code",
   "execution_count": null,
   "metadata": {},
   "outputs": [],
   "source": [
    "class PreprocessingBertData():\n",
    "    \n",
    "    def prepare_data_x(self,train_sentences):\n",
    "        x = bert_model_obj.create_input_array(train_sentences)\n",
    "        return x\n",
    "    \n",
    "    def prepare_data_y(self,train_labels):\n",
    "        y = list()\n",
    "        for item in train_labels:\n",
    "            label = item\n",
    "            y.append(label)\n",
    "        y = np.array(y)\n",
    "        return y\n",
    "        "
   ]
  },
  {
   "cell_type": "code",
   "execution_count": null,
   "metadata": {},
   "outputs": [],
   "source": [
    "class BertFineTune(tf.keras.layers.Layer):\n",
    "    def __init__(\n",
    "        self,\n",
    "        n_fine_tune_layers=10,\n",
    "        pooling=\"first\",\n",
    "        bert_path=\"https://tfhub.dev/google/bert_uncased_L-12_H-768_A-12/1\",\n",
    "        **kwargs,\n",
    "    ):\n",
    "        self.n_fine_tune_layers = n_fine_tune_layers\n",
    "        self.trainable = True\n",
    "        self.output_size = 768\n",
    "        self.pooling = pooling\n",
    "        self.bert_path = bert_path\n",
    "        if self.pooling not in [\"first\", \"mean\"]:\n",
    "            raise NameError(\n",
    "                f\"Undefined pooling type (must be either first or mean, but is {self.pooling}\"\n",
    "            )\n",
    "\n",
    "        super(BertLayer, self).__init__(**kwargs)\n",
    "    def build(self, input_shape):\n",
    "        self.bert = hub.Module(self.bert_path, trainable=self.trainable, name=f\"{self.name}_module\")\n",
    "\n",
    "        # Remove unused layers\n",
    "        trainable_vars = self.bert.variables\n",
    "        if self.pooling == \"first\":\n",
    "            trainable_vars = [var for var in trainable_vars if not \"/cls/\" in var.name]\n",
    "            trainable_layers = [\"pooler/dense\"]\n",
    "\n",
    "        elif self.pooling == \"mean\":\n",
    "            trainable_vars = [\n",
    "                var\n",
    "                for var in trainable_vars\n",
    "                if not \"/cls/\" in var.name and not \"/pooler/\" in var.name\n",
    "            ]\n",
    "            trainable_layers = []\n",
    "        else:\n",
    "            raise NameError(\n",
    "                f\"Undefined pooling type (must be either first or mean, but is {self.pooling}\"\n",
    "            )\n",
    "\n",
    "        # Select how many layers to fine tune\n",
    "        for i in range(self.n_fine_tune_layers):\n",
    "            trainable_layers.append(f\"encoder/layer_{str(11 - i)}\")\n",
    "\n",
    "        # Update trainable vars to contain only the specified layers\n",
    "        trainable_vars = [\n",
    "            var\n",
    "            for var in trainable_vars\n",
    "            if any([l in var.name for l in trainable_layers])\n",
    "        ]\n",
    "\n",
    "        # Add to trainable weights\n",
    "        for var in trainable_vars:\n",
    "            self._trainable_weights.append(var)\n",
    "\n",
    "        for var in self.bert.variables:\n",
    "            if var not in self._trainable_weights:\n",
    "                self._non_trainable_weights.append(var)\n",
    "\n",
    "        super(BertLayer, self).build(input_shape)\n",
    "    def call(self, inputs):\n",
    "        inputs = [K.cast(x, dtype=\"int32\") for x in inputs]\n",
    "        input_ids, input_mask, segment_ids = inputs\n",
    "        bert_inputs = dict(input_ids=input_ids, input_mask=input_mask, segment_ids=segment_ids)\n",
    "        \n",
    "        if self.pooling == \"first\":\n",
    "            pooled = self.bert(inputs=bert_inputs, signature=\"tokens\", as_dict=True)[\"pooled_output\"]\n",
    "        elif self.pooling == \"mean\":\n",
    "            result = self.bert(inputs=bert_inputs, signature=\"tokens\", as_dict=True)[\"sequence_output\"]\n",
    "\n",
    "            mul_mask = lambda x, m: x * tf.expand_dims(m, axis=-1)\n",
    "            masked_reduce_mean = lambda x, m: tf.reduce_sum(mul_mask(x, m), axis=1) / (\n",
    "                    tf.reduce_sum(m, axis=1, keepdims=True) + 1e-10)\n",
    "            input_mask = tf.cast(input_mask, tf.float32)\n",
    "            pooled = masked_reduce_mean(result, input_mask)\n",
    "        else:\n",
    "            raise NameError(f\"Undefined pooling type (must be either first or mean, but is {self.pooling}\")\n",
    "\n",
    "        return pooled\n",
    "\n",
    "    def compute_output_shape(self, input_shape):\n",
    "        return (input_shape[0], self.output_size)"
   ]
  },
  {
   "cell_type": "code",
   "execution_count": null,
   "metadata": {},
   "outputs": [],
   "source": [
    "bert_model_obj = BertModel()\n",
    "preprocess_bert_data_obj = PreprocessingBertData()"
   ]
  },
  {
   "cell_type": "code",
   "execution_count": null,
   "metadata": {},
   "outputs": [],
   "source": [
    "train_sentences = loaddata_obj.train_df[\"sentence\"].tolist()\n",
    "train_labels = loaddata_obj.train_df[\"polarity\"].tolist()"
   ]
  },
  {
   "cell_type": "code",
   "execution_count": null,
   "metadata": {},
   "outputs": [],
   "source": [
    "x = preprocess_bert_data_obj.prepare_data_x(train_sentences)\n",
    "y = preprocess_bert_data_obj.prepare_data_y(train_labels)\n",
    "\n",
    "train_input_ids, train_input_masks, train_segment_ids = x\n",
    "train_labels = y"
   ]
  },
  {
   "cell_type": "code",
   "execution_count": null,
   "metadata": {},
   "outputs": [],
   "source": [
    "class DesignModel():\n",
    "    def __init__(self):\n",
    "        self.model = None        \n",
    "        self.train_data = [train_input_ids, train_input_masks, train_segment_ids]\n",
    "        self.train_labels = train_labels\n",
    "        \n",
    "    def bert_model(self,max_seq_length): \n",
    "        in_id = Input(shape=(max_seq_length,), dtype=tf.int32, name=\"input_ids\")\n",
    "        in_mask = Input(shape=(max_seq_length,), dtype=tf.int32, name=\"input_masks\")\n",
    "        in_segment = Input(shape=(max_seq_length,), dtype=tf.int32, name=\"segment_ids\")\n",
    "        \n",
    "        bert_inputs = [in_id, in_mask, in_segment]\n",
    "        pooled_output, sequence_output = bert_model_obj.bert_module(bert_inputs)\n",
    "        \n",
    "        x = tf.keras.layers.GlobalAveragePooling1D()(sequence_output)\n",
    "        x = tf.keras.layers.Dropout(0.2)(x)\n",
    "        out = tf.keras.layers.Dense(1, activation=\"sigmoid\", name=\"dense_output\")(x)\n",
    "        self.model = tf.keras.models.Model(inputs=bert_inputs, outputs=out)\n",
    "        \n",
    "        self.model.compile(loss='binary_crossentropy', optimizer='adam', metrics=['accuracy'])\n",
    "        \n",
    "        self.model.summary()\n",
    "    \n",
    "    def model_train(self,batch_size,num_epoch):\n",
    "        print(\"Fitting to model\")\n",
    "        \n",
    "        self.model.fit(self.train_data,self.train_labels,epochs=num_epoch,batch_size=batch_size,validation_split=0.2,shuffle=True)\n",
    "        \n",
    "        print(\"Model Training complete.\")\n",
    "\n",
    "    def save_model(self,model,model_name):    \n",
    "        self.model.save(model_name+\".h5\")\n",
    "        print(\"Model saved to Model folder.\")"
   ]
  },
  {
   "cell_type": "code",
   "execution_count": null,
   "metadata": {},
   "outputs": [],
   "source": [
    "model_obj = DesignModel()\n",
    "model_obj.bert_model(bert_model_obj.max_len)\n",
    "model_obj.model_train(32,1)"
   ]
  },
  {
   "cell_type": "code",
   "execution_count": null,
   "metadata": {},
   "outputs": [],
   "source": [
    "model_obj.save_model(model_obj.model,\"bert\")"
   ]
  },
  {
   "cell_type": "code",
   "execution_count": null,
   "metadata": {},
   "outputs": [],
   "source": [
    "class Evaluation():\n",
    "    def get_accuracy(self,actuals, predictions):\n",
    "        acc = accuracy_score(actuals, predictions)\n",
    "        return acc"
   ]
  },
  {
   "cell_type": "code",
   "execution_count": null,
   "metadata": {},
   "outputs": [],
   "source": [
    "class Prediction():\n",
    "    def __init__(self):\n",
    "        self.model = model_obj.model\n",
    "        \n",
    "    def predict_validation(self):\n",
    "        valid_sentences = load_data_obj.validation_data_frame[\"query\"].tolist()\n",
    "        valid_labels = load_data_obj.validation_data_frame[\"category\"].tolist()\n",
    "\n",
    "        preprocess_bert_data_obj = PreprocessingBertData()\n",
    "        val_x = preprocess_bert_data_obj.prepare_data_x(valid_sentences)\n",
    "        prediction_labels = list(self.model.predict(val_x).argmax(axis=-1))\n",
    "        return valid_labels,prediction_labels\n",
    "        \n",
    "    \n",
    "    def predict(self,query):\n",
    "        query_seq = bert_model_obj.create_input_array([query])\n",
    "        pred = self.model.predict(query_seq)\n",
    "        pred = np.argmax(pred)\n",
    "        result = load_data_obj.cat_to_intent[pred]\n",
    "        return result"
   ]
  },
  {
   "cell_type": "code",
   "execution_count": null,
   "metadata": {},
   "outputs": [],
   "source": [
    "pred_obj = Prediction()"
   ]
  },
  {
   "cell_type": "code",
   "execution_count": null,
   "metadata": {},
   "outputs": [],
   "source": [
    "eval_obj = Evaluation()\n",
    "ytest,ypred = pred_obj.predict_validation()\n",
    "acc = eval_obj.get_accuracy(ytest,ypred)\n",
    "print(\"Auc: {:.2%}\".format(acc))"
   ]
  },
  {
   "cell_type": "code",
   "execution_count": null,
   "metadata": {},
   "outputs": [],
   "source": []
  }
 ],
 "metadata": {
  "kernelspec": {
   "display_name": "Python 3",
   "language": "python",
   "name": "python3"
  },
  "language_info": {
   "codemirror_mode": {
    "name": "ipython",
    "version": 3
   },
   "file_extension": ".py",
   "mimetype": "text/x-python",
   "name": "python",
   "nbconvert_exporter": "python",
   "pygments_lexer": "ipython3",
   "version": "3.6.9"
  }
 },
 "nbformat": 4,
 "nbformat_minor": 2
}
