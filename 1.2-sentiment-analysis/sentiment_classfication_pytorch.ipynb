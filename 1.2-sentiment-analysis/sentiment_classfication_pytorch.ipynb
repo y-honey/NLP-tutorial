{
  "nbformat": 4,
  "nbformat_minor": 0,
  "metadata": {
    "kernelspec": {
      "display_name": "Python 3",
      "language": "python",
      "name": "python3"
    },
    "language_info": {
      "codemirror_mode": {
        "name": "ipython",
        "version": 3
      },
      "file_extension": ".py",
      "mimetype": "text/x-python",
      "name": "python",
      "nbconvert_exporter": "python",
      "pygments_lexer": "ipython3",
      "version": "3.6.9"
    },
    "colab": {
      "name": "sentiment_classfication_pytorch.ipynb",
      "provenance": [],
      "collapsed_sections": []
    },
    "accelerator": "GPU"
  },
  "cells": [
    {
      "cell_type": "code",
      "metadata": {
        "id": "-ZuyYH8a1QBd",
        "colab_type": "code",
        "colab": {}
      },
      "source": [
        "import numpy as np # linear algebra\n",
        "import pandas as pd # data processing, CSV file I/O (e.g. pd.read_csv)\n",
        "import torch\n",
        "import torch.nn as nn\n",
        "import torch.nn.functional as F\n",
        "from nltk.corpus import stopwords \n",
        "from collections import Counter\n",
        "import string\n",
        "import re\n",
        "import seaborn as sns\n",
        "from tqdm import tqdm\n",
        "import matplotlib.pyplot as plt\n",
        "from torch.utils.data import TensorDataset, DataLoader\n",
        "from sklearn.model_selection import train_test_split"
      ],
      "execution_count": 10,
      "outputs": []
    },
    {
      "cell_type": "code",
      "metadata": {
        "id": "-AO1kIr01QBs",
        "colab_type": "code",
        "colab": {
          "base_uri": "https://localhost:8080/",
          "height": 34
        },
        "outputId": "9e84dda9-4c10-4012-b31a-d53fbbe3adae"
      },
      "source": [
        "is_cuda = torch.cuda.is_available()\n",
        "\n",
        "# If we have a GPU available, we'll set our device to GPU. We'll use this device variable later in our code.\n",
        "if is_cuda:\n",
        "    device = torch.device(\"cuda\")\n",
        "    print(\"GPU is available\")\n",
        "else:\n",
        "    device = torch.device(\"cpu\")\n",
        "    print(\"GPU not available, CPU used\")"
      ],
      "execution_count": 12,
      "outputs": [
        {
          "output_type": "stream",
          "text": [
            "GPU is available\n"
          ],
          "name": "stdout"
        }
      ]
    },
    {
      "cell_type": "code",
      "metadata": {
        "id": "AZfAFzC21nXw",
        "colab_type": "code",
        "colab": {
          "base_uri": "https://localhost:8080/",
          "height": 34
        },
        "outputId": "0daf3fec-812b-464a-9f3c-77ad6cf372f5"
      },
      "source": [
        "from google.colab import drive\n",
        "drive.mount('/content/drive')"
      ],
      "execution_count": 14,
      "outputs": [
        {
          "output_type": "stream",
          "text": [
            "Drive already mounted at /content/drive; to attempt to forcibly remount, call drive.mount(\"/content/drive\", force_remount=True).\n"
          ],
          "name": "stdout"
        }
      ]
    },
    {
      "cell_type": "code",
      "metadata": {
        "id": "8wrbWKh31QCA",
        "colab_type": "code",
        "colab": {
          "base_uri": "https://localhost:8080/",
          "height": 204
        },
        "outputId": "f50e2840-0d83-4bf4-b51a-6e5c455c97a5"
      },
      "source": [
        "df = pd.read_csv(\"/content/drive/My Drive/Projects/NLP-Notebooks/1.2-sentiment-analysis/imdb_dataset_small.csv\")\n",
        "df.head()"
      ],
      "execution_count": 15,
      "outputs": [
        {
          "output_type": "execute_result",
          "data": {
            "text/html": [
              "<div>\n",
              "<style scoped>\n",
              "    .dataframe tbody tr th:only-of-type {\n",
              "        vertical-align: middle;\n",
              "    }\n",
              "\n",
              "    .dataframe tbody tr th {\n",
              "        vertical-align: top;\n",
              "    }\n",
              "\n",
              "    .dataframe thead th {\n",
              "        text-align: right;\n",
              "    }\n",
              "</style>\n",
              "<table border=\"1\" class=\"dataframe\">\n",
              "  <thead>\n",
              "    <tr style=\"text-align: right;\">\n",
              "      <th></th>\n",
              "      <th>review</th>\n",
              "      <th>sentiment</th>\n",
              "    </tr>\n",
              "  </thead>\n",
              "  <tbody>\n",
              "    <tr>\n",
              "      <th>0</th>\n",
              "      <td>One of the other reviewers has mentioned that ...</td>\n",
              "      <td>positive</td>\n",
              "    </tr>\n",
              "    <tr>\n",
              "      <th>1</th>\n",
              "      <td>A wonderful little production. &lt;br /&gt;&lt;br /&gt;The...</td>\n",
              "      <td>positive</td>\n",
              "    </tr>\n",
              "    <tr>\n",
              "      <th>2</th>\n",
              "      <td>I thought this was a wonderful way to spend ti...</td>\n",
              "      <td>positive</td>\n",
              "    </tr>\n",
              "    <tr>\n",
              "      <th>3</th>\n",
              "      <td>Basically there's a family where a little boy ...</td>\n",
              "      <td>negative</td>\n",
              "    </tr>\n",
              "    <tr>\n",
              "      <th>4</th>\n",
              "      <td>Petter Mattei's \"Love in the Time of Money\" is...</td>\n",
              "      <td>positive</td>\n",
              "    </tr>\n",
              "  </tbody>\n",
              "</table>\n",
              "</div>"
            ],
            "text/plain": [
              "                                              review sentiment\n",
              "0  One of the other reviewers has mentioned that ...  positive\n",
              "1  A wonderful little production. <br /><br />The...  positive\n",
              "2  I thought this was a wonderful way to spend ti...  positive\n",
              "3  Basically there's a family where a little boy ...  negative\n",
              "4  Petter Mattei's \"Love in the Time of Money\" is...  positive"
            ]
          },
          "metadata": {
            "tags": []
          },
          "execution_count": 15
        }
      ]
    },
    {
      "cell_type": "code",
      "metadata": {
        "id": "iw-PNbMp47Uk",
        "colab_type": "code",
        "colab": {}
      },
      "source": [
        "class EDA():\n",
        "    def get_length_dist(self,data):\n",
        "        rev_len = [len(i) for i in data]\n",
        "        pd.Series(rev_len).hist()\n",
        "        plt.title('Number of types of commets')\n",
        "        plt.xlabel('length')\n",
        "        plt.ylabel('number')\n",
        "        plt.show()\n",
        "        print(pd.Series(rev_len).describe())\n",
        "    def get_class_dist(self,df):\n",
        "        df['sentiment'].replace({1:'positive',0:'negative'}).value_counts().plot(kind='bar',figsize=(7,4))\n",
        "        plt.title('Number of types')\n",
        "        plt.xlabel('Comment_type')\n",
        "        plt.ylabel('number')\n",
        "        plt.show()"
      ],
      "execution_count": 16,
      "outputs": []
    },
    {
      "cell_type": "code",
      "metadata": {
        "id": "dUOVIzjS7lTW",
        "colab_type": "code",
        "colab": {
          "base_uri": "https://localhost:8080/",
          "height": 761
        },
        "outputId": "f339ec39-30ae-4855-9ee5-bf4eb3c4193d"
      },
      "source": [
        "eda = EDA()\n",
        "eda.get_length_dist(df['review'])\n",
        "eda.get_class_dist(df)\n"
      ],
      "execution_count": 8,
      "outputs": [
        {
          "output_type": "display_data",
          "data": {
            "image/png": "[encoded data removed]",
            "text/plain": [
              "<Figure size 432x288 with 1 Axes>"
            ]
          },
          "metadata": {
            "tags": [],
            "needs_background": "light"
          }
        },
        {
          "output_type": "stream",
          "text": [
            "count    20000.000000\n",
            "mean      1309.473600\n",
            "std        992.044975\n",
            "min         52.000000\n",
            "25%        697.000000\n",
            "50%        964.000000\n",
            "75%       1592.000000\n",
            "max      10363.000000\n",
            "dtype: float64\n"
          ],
          "name": "stdout"
        },
        {
          "output_type": "display_data",
          "data": {
            "image/png": "[encoded data removed]",
            "text/plain": [
              "<Figure size 504x288 with 1 Axes>"
            ]
          },
          "metadata": {
            "tags": [],
            "needs_background": "light"
          }
        }
      ]
    },
    {
      "cell_type": "code",
      "metadata": {
        "id": "tf0cohSAa6Md",
        "colab_type": "code",
        "colab": {}
      },
      "source": [
        "class Tokenizer():\n",
        "\n",
        "    def tokenize(self,data):\n",
        "        self.words = []\n",
        "\n",
        "        for sent in data:\n",
        "            for word in sent.lower().split():\n",
        "                self.words.append(word)\n",
        "    \n",
        "        corpus = Counter(self.words)\n",
        "        corpus = sorted(corpus,key=corpus.get,reverse=True)[:1000]\n",
        "        self.vocab = {\"pad\":0}\n",
        "        self.vocab.update({w:i+1 for i,w in enumerate(corpus)})\n",
        "        self.vocab.update({\"unk\":len(self.vocab)+1})"
      ],
      "execution_count": 17,
      "outputs": []
    },
    {
      "cell_type": "code",
      "metadata": {
        "id": "uqH_UU46Z4Jm",
        "colab_type": "code",
        "colab": {}
      },
      "source": [
        "class PreprocessData():\n",
        "\n",
        "    def split_data(self,df):\n",
        "        x,y = df['review'].values,df['sentiment'].values\n",
        "        x_train,x_test,y_train,y_test = train_test_split(x,y,stratify=y)\n",
        "        print(f'shape of train data is {x_train.shape}')\n",
        "        print(f'shape of test data is {x_test.shape}')\n",
        "        return x_train,x_test,y_train,y_test\n",
        "    \n",
        "    def preprocess_string(self,text):\n",
        "        # Remove all non-word characters (everything except numbers and letters)\n",
        "        text = re.sub(r\"[^\\w\\s]\", '', text)\n",
        "        # Replace all runs of whitespaces with no space\n",
        "        text = re.sub(r\"\\s+\", '', text)\n",
        "        # replace digits with no space\n",
        "        text = re.sub(r\"\\d\", '', text)\n",
        "        return text\n",
        "    def padding(self,sentences, seq_len):\n",
        "        features = np.zeros((len(sentences), seq_len),dtype=int)\n",
        "        for ii, review in enumerate(sentences):\n",
        "            if len(review) != 0:\n",
        "                features[ii, -len(review):] = np.array(review)[:seq_len]\n",
        "        return features\n",
        "\n",
        "    def encode(self,text_list,vocab):\n",
        "        output = list()\n",
        "        for sent in text_list:\n",
        "            enc_words = list()\n",
        "            for word in sent.lower().split():\n",
        "                try:\n",
        "                    enc_words.append(vocab[word])\n",
        "                except:\n",
        "                    enc_words.append(vocab[\"unk\"])\n",
        "            output.append(enc_words)\n",
        "        return np.array(output)\n",
        "\n",
        "    def get_label_encode(self,data):\n",
        "        label_data = [1 if label =='positive' else 0 for label in data]\n",
        "        return np.array(label_data)\n"
      ],
      "execution_count": 19,
      "outputs": []
    },
    {
      "cell_type": "code",
      "metadata": {
        "id": "VgbBK6Qyfw1F",
        "colab_type": "code",
        "colab": {}
      },
      "source": [
        "tknzr = Tokenizer()\n",
        "tknzr.tokenize(df['review'].values)\n",
        "vocab = tknzr.vocab"
      ],
      "execution_count": 20,
      "outputs": []
    },
    {
      "cell_type": "code",
      "metadata": {
        "id": "M4vrZ6L047Jk",
        "colab_type": "code",
        "colab": {
          "base_uri": "https://localhost:8080/",
          "height": 51
        },
        "outputId": "22da67ee-e4d6-49ae-c172-bf48e3ccc160"
      },
      "source": [
        "prp_obj = PreprocessData()\n",
        "x_train,x_test,y_train,y_test = prp_obj.split_data(df)\n",
        "x_train = prp_obj.encode(x_train,vocab)\n",
        "x_test = prp_obj.encode(x_test,vocab)\n",
        "y_train = prp_obj.get_label_encode(y_train)\n",
        "y_test = prp_obj.get_label_encode(y_test)\n",
        "x_train_pad = prp_obj.padding(x_train,500)\n",
        "x_test_pad = prp_obj.padding(x_test,500)"
      ],
      "execution_count": 21,
      "outputs": [
        {
          "output_type": "stream",
          "text": [
            "shape of train data is (15000,)\n",
            "shape of test data is (5000,)\n"
          ],
          "name": "stdout"
        }
      ]
    },
    {
      "cell_type": "code",
      "metadata": {
        "id": "cLIwYq3x1QCc",
        "colab_type": "code",
        "colab": {
          "base_uri": "https://localhost:8080/",
          "height": 418
        },
        "outputId": "0febf0e4-bcee-4d17-acf1-da2c7758e496"
      },
      "source": [
        ""
      ],
      "execution_count": 15,
      "outputs": [
        {
          "output_type": "display_data",
          "data": {
            "image/png": "[encoded data removed]",
            "text/plain": [
              "<Figure size 432x288 with 1 Axes>"
            ]
          },
          "metadata": {
            "tags": [],
            "needs_background": "light"
          }
        },
        {
          "output_type": "execute_result",
          "data": {
            "text/plain": [
              "count    15000.000000\n",
              "mean       230.590133\n",
              "std        171.424307\n",
              "min         10.000000\n",
              "25%        126.000000\n",
              "50%        172.000000\n",
              "75%        278.250000\n",
              "max       1839.000000\n",
              "dtype: float64"
            ]
          },
          "metadata": {
            "tags": []
          },
          "execution_count": 15
        }
      ]
    },
    {
      "cell_type": "code",
      "metadata": {
        "id": "53U3wChM1QCw",
        "colab_type": "code",
        "colab": {
          "base_uri": "https://localhost:8080/",
          "height": 238
        },
        "outputId": "75af2d11-182c-41ce-ebf6-94fd8a5614cb"
      },
      "source": [
        "# create Tensor datasets\n",
        "train_data = TensorDataset(torch.from_numpy(x_train_pad), torch.from_numpy(y_train))\n",
        "valid_data = TensorDataset(torch.from_numpy(x_test_pad), torch.from_numpy(y_test))\n",
        "\n",
        "# dataloaders\n",
        "batch_size = 50\n",
        "\n",
        "# make sure to SHUFFLE your data\n",
        "train_loader = DataLoader(train_data, shuffle=True, batch_size=batch_size)\n",
        "valid_loader = DataLoader(valid_data, shuffle=True, batch_size=batch_size)\n",
        "# obtain one batch of training data\n",
        "dataiter = iter(train_loader)\n",
        "sample_x, sample_y = dataiter.next()\n",
        "\n",
        "print('Sample input size: ', sample_x.size()) # batch_size, seq_length\n",
        "print('Sample input: \\n', sample_x)\n",
        "print('Sample input: \\n', sample_y)"
      ],
      "execution_count": 44,
      "outputs": [
        {
          "output_type": "stream",
          "text": [
            "Sample input size:  torch.Size([50, 500])\n",
            "Sample input: \n",
            " tensor([[   0,    0,    0,  ..., 1002,  525, 1002],\n",
            "        [   0,    0,    0,  ...,  125, 1002, 1002],\n",
            "        [   0,    0,    0,  ..., 1002,   33, 1002],\n",
            "        ...,\n",
            "        [   0,    0,    0,  ..., 1002,    5, 1002],\n",
            "        [   0,    0,    0,  ...,    3,   87, 1002],\n",
            "        [   0,    0,    0,  ..., 1002,   12, 1002]])\n",
            "Sample input: \n",
            " tensor([1, 1, 0, 1, 1, 0, 1, 1, 1, 1, 1, 1, 1, 0, 0, 0, 0, 1, 1, 1, 1, 1, 0, 1,\n",
            "        0, 0, 1, 0, 0, 1, 1, 0, 1, 0, 0, 0, 0, 1, 1, 1, 1, 0, 0, 0, 0, 0, 0, 1,\n",
            "        1, 0])\n"
          ],
          "name": "stdout"
        }
      ]
    },
    {
      "cell_type": "code",
      "metadata": {
        "id": "F4BA0FV41QC3",
        "colab_type": "code",
        "colab": {}
      },
      "source": [
        "class SentimentRNN(nn.Module):\n",
        "    def __init__(self,no_layers,vocab_size,hidden_dim,embedding_dim,drop_prob=0.5):\n",
        "        super(SentimentRNN,self).__init__()\n",
        " \n",
        "        self.output_dim = output_dim\n",
        "        self.hidden_dim = hidden_dim\n",
        " \n",
        "        self.no_layers = no_layers\n",
        "        self.vocab_size = vocab_size\n",
        "    \n",
        "        # embedding and LSTM layers\n",
        "        self.embedding = nn.Embedding(vocab_size, embedding_dim)\n",
        "        \n",
        "        #lstm\n",
        "        self.lstm = nn.LSTM(input_size=embedding_dim,hidden_size=self.hidden_dim,\n",
        "                           num_layers=no_layers, batch_first=True)\n",
        "        \n",
        "        \n",
        "        # dropout layer\n",
        "        self.dropout = nn.Dropout(0.3)\n",
        "    \n",
        "        # linear and sigmoid layer\n",
        "        self.fc = nn.Linear(self.hidden_dim, output_dim)\n",
        "        self.sig = nn.Sigmoid()\n",
        "        \n",
        "    def forward(self,x,hidden):\n",
        "        batch_size = x.size(0)\n",
        "        # embeddings and lstm_out\n",
        "        embeds = self.embedding(x)  # shape: B x S x Feature   since batch = True\n",
        "        #print(embeds.shape)  #[50, 500, 1000]\n",
        "        lstm_out, hidden = self.lstm(embeds, hidden)\n",
        "        \n",
        "        lstm_out = lstm_out.contiguous().view(-1, self.hidden_dim) \n",
        "        \n",
        "        # dropout and fully connected layer\n",
        "        out = self.dropout(lstm_out)\n",
        "        out = self.fc(out)\n",
        "        \n",
        "        # sigmoid function\n",
        "        sig_out = self.sig(out)\n",
        "        \n",
        "        # reshape to be batch_size first\n",
        "        sig_out = sig_out.view(batch_size, -1)\n",
        "\n",
        "        sig_out = sig_out[:, -1] # get last batch of labels\n",
        "        \n",
        "        # return last sigmoid output and hidden state\n",
        "        return sig_out, hidden\n",
        "        \n",
        "        \n",
        "        \n",
        "    def init_hidden(self, batch_size):\n",
        "        ''' Initializes hidden state '''\n",
        "        # Create two new tensors with sizes n_layers x batch_size x hidden_dim,\n",
        "        # initialized to zero, for hidden state and cell state of LSTM\n",
        "        h0 = torch.zeros((self.no_layers,batch_size,self.hidden_dim)).to(device)\n",
        "        c0 = torch.zeros((self.no_layers,batch_size,self.hidden_dim)).to(device)\n",
        "        hidden = (h0,c0)\n",
        "        return hidden"
      ],
      "execution_count": 31,
      "outputs": []
    },
    {
      "cell_type": "code",
      "metadata": {
        "id": "JYQ0yIsj1QC8",
        "colab_type": "code",
        "colab": {
          "base_uri": "https://localhost:8080/",
          "height": 136
        },
        "outputId": "6d58dfe1-86a2-471e-f34b-b0050009b1a7"
      },
      "source": [
        "no_layers = 2\n",
        "vocab_size = len(vocab) + 1 #extra 1 for padding\n",
        "embedding_dim = 64\n",
        "output_dim = 1\n",
        "hidden_dim = 256\n",
        "\n",
        "\n",
        "model = SentimentRNN(no_layers,vocab_size,hidden_dim,embedding_dim,drop_prob=0.5)\n",
        "\n",
        "#moving to gpu\n",
        "model.to(device)\n",
        "\n",
        "print(model)"
      ],
      "execution_count": 45,
      "outputs": [
        {
          "output_type": "stream",
          "text": [
            "SentimentRNN(\n",
            "  (embedding): Embedding(1003, 64)\n",
            "  (lstm): LSTM(64, 256, num_layers=2, batch_first=True)\n",
            "  (dropout): Dropout(p=0.3, inplace=False)\n",
            "  (fc): Linear(in_features=256, out_features=1, bias=True)\n",
            "  (sig): Sigmoid()\n",
            ")\n"
          ],
          "name": "stdout"
        }
      ]
    },
    {
      "cell_type": "code",
      "metadata": {
        "id": "0kntA0AdAL11",
        "colab_type": "code",
        "colab": {}
      },
      "source": [
        "class DefineModel():\n",
        "    def __init__(self,model):\n",
        "        self.model = model\n",
        "        self.lr=0.001\n",
        "\n",
        "    def get_loss(self):\n",
        "        criterion = nn.BCELoss()\n",
        "        return criterion\n",
        "\n",
        "    def get_optimizer(self):\n",
        "        optimizer = torch.optim.Adam(model.parameters(), lr=self.lr)\n",
        "        return optimizer\n",
        "\n",
        "    def get_accuracy(self,pred,label):\n",
        "        pred = torch.round(pred.squeeze())\n",
        "        return torch.sum(pred == label.squeeze()).item()\n",
        "\n",
        "    def train(self,epochs,batch_size):\n",
        "        clip = 5\n",
        "        valid_loss_min = np.Inf\n",
        "        # train for some number of epochs\n",
        "        self.epoch_tr_loss = list()\n",
        "        self.epoch_vl_loss = list()\n",
        "        self.epoch_tr_acc = list()\n",
        "        self.epoch_vl_acc = list()\n",
        "\n",
        "        for epoch in range(epochs):\n",
        "            train_losses = []\n",
        "            train_acc = 0.0\n",
        "            self.model.train()\n",
        "            # initialize hidden state \n",
        "            h = self.model.init_hidden(batch_size)\n",
        "            for inputs, labels in train_loader:\n",
        "                \n",
        "                inputs, labels = inputs.to(device), labels.to(device)   \n",
        "                # Creating new variables for the hidden state, otherwise\n",
        "                # we'd backprop through the entire training history\n",
        "                h = tuple([each.data for each in h])\n",
        "                \n",
        "                self.model.zero_grad()\n",
        "                output,h = self.model(inputs,h)\n",
        "                \n",
        "                # calculate the loss and perform backprop\n",
        "                loss = self.get_loss()(output.squeeze(), labels.float())\n",
        "                loss.backward()\n",
        "                train_losses.append(loss.item())\n",
        "                # calculating accuracy\n",
        "                accuracy = self.get_accuracy(output,labels)\n",
        "                train_acc += accuracy\n",
        "                #`clip_grad_norm` helps prevent the exploding gradient problem in RNNs / LSTMs.\n",
        "                nn.utils.clip_grad_norm_(self.model.parameters(), clip)\n",
        "                self.get_optimizer().step()\n",
        "        \n",
        "            \n",
        "                \n",
        "            val_h = self.model.init_hidden(batch_size)\n",
        "            val_losses = []\n",
        "            val_acc = 0.0\n",
        "            self.model.eval()\n",
        "            for inputs, labels in valid_loader:\n",
        "                    val_h = tuple([each.data for each in val_h])\n",
        "\n",
        "                    inputs, labels = inputs.to(device), labels.to(device)\n",
        "\n",
        "                    output, val_h = self.model(inputs, val_h)\n",
        "                    val_loss = self.get_loss()(output.squeeze(), labels.float())\n",
        "\n",
        "                    val_losses.append(val_loss.item())\n",
        "                    \n",
        "                    accuracy = self.get_accuracy(output,labels)\n",
        "                    val_acc += accuracy\n",
        "                    \n",
        "            epoch_train_loss = np.mean(train_losses)\n",
        "            epoch_val_loss = np.mean(val_losses)\n",
        "            epoch_train_acc = train_acc/len(train_loader.dataset)\n",
        "            epoch_val_acc = val_acc/len(valid_loader.dataset)\n",
        "            self.epoch_tr_loss.append(epoch_train_loss)\n",
        "            self.epoch_vl_loss.append(epoch_val_loss)\n",
        "            self.epoch_tr_acc.append(epoch_train_acc)\n",
        "            self.epoch_vl_acc.append(epoch_val_acc)\n",
        "            print(f'Epoch {epoch+1}') \n",
        "            print(f'train_loss : {epoch_train_loss} val_loss : {epoch_val_loss}')\n",
        "            print(f'train_accuracy : {epoch_train_acc*100} val_accuracy : {epoch_val_acc*100}')\n",
        "            if epoch_val_loss <= valid_loss_min:\n",
        "                torch.save(self.model.state_dict(), '/content/drive/My Drive/Projects/NLP-Notebooks/1.2-sentiment-analysis/state_dict.pt')\n",
        "                print('Validation loss decreased ({:.6f} --> {:.6f}).  Saving model ...'.format(valid_loss_min,epoch_val_loss))\n",
        "                valid_loss_min = epoch_val_loss\n",
        "            print(30*'==')\n",
        "\n",
        "    def evaluation(self):\n",
        "        fig = plt.figure(figsize = (20, 6))\n",
        "        plt.subplot(1, 2, 1)\n",
        "        plt.plot(self.epoch_tr_acc, label='Train Acc')\n",
        "        plt.plot(self.epoch_vl_acc, label='Validation Acc')\n",
        "        plt.title(\"Accuracy\")\n",
        "        plt.legend()\n",
        "        plt.grid()\n",
        "            \n",
        "        plt.subplot(1, 2, 2)\n",
        "        plt.plot(self.epoch_tr_loss, label='Train loss')\n",
        "        plt.plot(self.epoch_vl_loss, label='Validation loss')\n",
        "        plt.title(\"Loss\")\n",
        "        plt.legend()\n",
        "        plt.grid()\n",
        "\n",
        "        plt.show()"
      ],
      "execution_count": 53,
      "outputs": []
    },
    {
      "cell_type": "code",
      "metadata": {
        "id": "WOG9R2hrDyba",
        "colab_type": "code",
        "colab": {
          "base_uri": "https://localhost:8080/",
          "height": 798
        },
        "outputId": "fbd1576f-4a4e-4a10-8027-3b79c6007017"
      },
      "source": [
        "model_obj = DefineModel(model)\n",
        "model_obj.train(5,50)\n",
        "model_obj.evaluation()"
      ],
      "execution_count": 54,
      "outputs": [
        {
          "output_type": "stream",
          "text": [
            "Epoch 1\n",
            "train_loss : 0.4422856902579467 val_loss : 0.5820511892437935\n",
            "train_accuracy : 80.28 val_accuracy : 77.96\n",
            "Validation loss decreased (inf --> 0.582051).  Saving model ...\n",
            "============================================================\n",
            "Epoch 2\n",
            "train_loss : 0.41095594997207324 val_loss : 0.4524167914688587\n",
            "train_accuracy : 82.33333333333334 val_accuracy : 79.97999999999999\n",
            "Validation loss decreased (0.582051 --> 0.452417).  Saving model ...\n",
            "============================================================\n",
            "Epoch 3\n",
            "train_loss : 0.39521002729733784 val_loss : 0.42115431651473045\n",
            "train_accuracy : 82.87333333333333 val_accuracy : 81.38\n",
            "Validation loss decreased (0.452417 --> 0.421154).  Saving model ...\n",
            "============================================================\n",
            "Epoch 4\n",
            "train_loss : 0.3885829058786233 val_loss : 0.41097828328609465\n",
            "train_accuracy : 83.46000000000001 val_accuracy : 83.44\n",
            "Validation loss decreased (0.421154 --> 0.410978).  Saving model ...\n",
            "============================================================\n",
            "Epoch 5\n",
            "train_loss : 0.38404680661857127 val_loss : 0.45386058509349825\n",
            "train_accuracy : 84.80666666666666 val_accuracy : 81.54\n",
            "============================================================\n"
          ],
          "name": "stdout"
        },
        {
          "output_type": "display_data",
          "data": {
            "image/png": "[encoded data removed]",
            "text/plain": [
              "<Figure size 1440x432 with 2 Axes>"
            ]
          },
          "metadata": {
            "tags": [],
            "needs_background": "light"
          }
        }
      ]
    },
    {
      "cell_type": "code",
      "metadata": {
        "id": "cvA6xCBAP-To",
        "colab_type": "code",
        "colab": {}
      },
      "source": [
        "class Prediction():\n",
        "    def __init__(self):\n",
        "        self.model = torch.load('/content/drive/My Drive/Projects/NLP-Notebooks/1.2-sentiment-analysis/state_dict.pt')\n",
        "        self.max_len = 500\n",
        "    def predict(self,text):\n",
        "        prps_obj = PreprocessData()\n",
        "        word_seq = np.array([vocab[word] for word in text.split() \n",
        "                         if word in vocab.keys()])\n",
        "        word_seq = np.expand_dims(word_seq,axis=0)\n",
        "        pad =  torch.from_numpy(prps_obj.padding(word_seq,self.max_len))\n",
        "        inputs = pad.to(device)\n",
        "        batch_size = 1\n",
        "        h = model.init_hidden(batch_size)\n",
        "        h = tuple([each.data for each in h])\n",
        "        output, h = model(inputs, h)\n",
        "        return(output.item())"
      ],
      "execution_count": 62,
      "outputs": []
    },
    {
      "cell_type": "code",
      "metadata": {
        "id": "m40Am4qQQXfN",
        "colab_type": "code",
        "colab": {}
      },
      "source": [
        "pred_obj = Prediction()"
      ],
      "execution_count": 63,
      "outputs": []
    },
    {
      "cell_type": "code",
      "metadata": {
        "id": "m_6KCOoNRSAI",
        "colab_type": "code",
        "colab": {
          "base_uri": "https://localhost:8080/",
          "height": 139
        },
        "outputId": "3c563eef-fa12-4541-c155-aa9d80750e9e"
      },
      "source": [
        "index = 30\n",
        "print(df['review'][index])\n",
        "print('='*70)\n",
        "print(f'Actual sentiment is  : {df[\"sentiment\"][index]}')\n",
        "print('='*70)\n",
        "pro = pred_obj.predict(df['review'][index])\n",
        "status = \"positive\" if pro > 0.5 else \"negative\"\n",
        "pro = (1 - pro) if status == \"negative\" else pro\n",
        "print(f'Predicted sentiment is {status} with a probability of {pro}')"
      ],
      "execution_count": 64,
      "outputs": [
        {
          "output_type": "stream",
          "text": [
            "Taut and organically gripping, Edward Dmytryk's Crossfire is a distinctive suspense thriller, an unlikely \"message\" movie using the look and devices of the noir cycle.<br /><br />Bivouacked in Washington, DC, a company of soldiers cope with their restlessness by hanging out in bars. Three of them end up at a stranger's apartment where Robert Ryan, drunk and belligerent, beats their host (Sam Levene) to death because he happens to be Jewish. Police detective Robert Young investigates with the help of Robert Mitchum, who's assigned to Ryan's outfit. Suspicion falls on the second of the three (George Cooper), who has vanished. Ryan slays the third buddy (Steve Brodie) to insure his silence before Young closes in.<br /><br />Abetted by a superior script by John Paxton, Dmytryk draws precise performances from his three starring Bobs. Ryan, naturally, does his prototypical Angry White Male (and to the hilt), while Mitchum underplays with his characteristic alert nonchalance (his role, however, is not central); Young may never have been better. Gloria Grahame gives her first fully-fledged rendition of the smart-mouthed, vulnerable tramp, and, as a sad sack who's leeched into her life, Paul Kelly haunts us in a small, peripheral role that he makes memorable.<br /><br />The politically engaged Dmytryk perhaps inevitably succumbs to sermonizing, but it's pretty much confined to Young's reminiscence of how his Irish grandfather died at the hands of bigots a century earlier (thus, incidentally, stretching chronology to the limit). At least there's no attempt to render an explanation, however glib, of why Ryan hates Jews (and hillbillies and...).<br /><br />Curiously, Crossfire survives even the major change wrought upon it -- the novel it's based on (Richard Brooks' The Brick Foxhole) dealt with a gay-bashing murder. But homosexuality in 1947 was still Beyond The Pale. News of the Holocaust had, however, begun to emerge from the ashes of Europe, so Hollywood felt emboldened to register its protest against anti-Semitism (the studios always quaked at the prospect of offending any potential ticket buyer).<br /><br />But while the change from homophobia to anti-Semitism works in general, the specifics don't fit so smoothly. The victim's chatting up a lonesome, drunk young soldier then inviting him back home looks odd, even though (or especially since) there's a girlfriend in tow. It raises the question whether this scenario was retained inadvertently or left in as a discreet tip-off to the original engine generating Ryan's murderous rage.\n",
            "======================================================================\n",
            "Actual sentiment is  : positive\n",
            "======================================================================\n",
            "torch.Size([1, 500])\n",
            "Predicted sentiment is positive with a probability of 0.5342129468917847\n"
          ],
          "name": "stdout"
        }
      ]
    },
    {
      "cell_type": "code",
      "metadata": {
        "id": "OtkLpZ-bR3gH",
        "colab_type": "code",
        "colab": {
          "base_uri": "https://localhost:8080/",
          "height": 139
        },
        "outputId": "2f3ded6e-d562-44e5-81d0-7ffaceddb502"
      },
      "source": [
        "index = 32\n",
        "print(df['review'][index])\n",
        "print('='*70)\n",
        "print(f'Actual sentiment is  : {df[\"sentiment\"][index]}')\n",
        "print('='*70)\n",
        "pro = pred_obj.predict(df['review'][index])\n",
        "status = \"positive\" if pro > 0.5 else \"negative\"\n",
        "pro = (1 - pro) if status == \"negative\" else pro\n",
        "print(f'predicted sentiment is {status} with a probability of {pro}')"
      ],
      "execution_count": 65,
      "outputs": [
        {
          "output_type": "stream",
          "text": [
            "My first exposure to the Templarios & not a good one. I was excited to find this title among the offerings from Anchor Bay Video, which has brought us other cult classics such as \"Spider Baby\". The print quality is excellent, but this alone can't hide the fact that the film is deadly dull. There's a thrilling opening sequence in which the villagers exact a terrible revenge on the Templars (& set the whole thing in motion), but everything else in the movie is slow, ponderous &, ultimately, unfulfilling. Adding insult to injury: the movie was dubbed, not subtitled, as promised on the video jacket.\n",
            "======================================================================\n",
            "Actual sentiment is  : negative\n",
            "======================================================================\n",
            "torch.Size([1, 500])\n",
            "predicted sentiment is negative with a probability of 0.9882652070373297\n"
          ],
          "name": "stdout"
        }
      ]
    }
  ]
}