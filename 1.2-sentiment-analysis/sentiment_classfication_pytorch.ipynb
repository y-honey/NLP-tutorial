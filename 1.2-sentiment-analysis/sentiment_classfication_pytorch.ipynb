{
 "cells": [
  {
   "cell_type": "code",
   "execution_count": 18,
   "metadata": {},
   "outputs": [],
   "source": [
    "import pandas as pd\n",
    "import os\n",
    "import numpy as np\n",
    "import torch\n",
    "import random\n",
    "import pickle\n",
    "from tqdm import tqdm\n",
    "from collections import Counter\n",
    "from torch.utils.data import DataLoader,Dataset\n",
    "import torch.nn as nn\n",
    "import torch.nn.functional as F"
   ]
  },
  {
   "cell_type": "code",
   "execution_count": 19,
   "metadata": {},
   "outputs": [],
   "source": [
    "class LoadData():\n",
    "    def __init__(self,csv_file):\n",
    "        self.df = pd.read_csv(os.path.join(os.getcwd(),csv_file))\n",
    "        self.train_df = None\n",
    "        self.test_df = None\n",
    "    def load_data(self):\n",
    "        self.df.columns = ['sentence','sentiment']\n",
    "        self.train_df = self.df[self.df['sentiment']=='positive']\n",
    "        self.test_df = self.df[self.df['sentiment']=='negative']\n",
    "        self.train_df.loc[self.train_df['sentiment']=='positive','polarity'] = 1\n",
    "        self.test_df.loc[self.test_df['sentiment']=='negative','polarity'] = 0"
   ]
  },
  {
   "cell_type": "code",
   "execution_count": 20,
   "metadata": {},
   "outputs": [
    {
     "name": "stderr",
     "output_type": "stream",
     "text": [
      "/usr/local/lib/python3.6/dist-packages/pandas/core/indexing.py:845: SettingWithCopyWarning: \n",
      "A value is trying to be set on a copy of a slice from a DataFrame.\n",
      "Try using .loc[row_indexer,col_indexer] = value instead\n",
      "\n",
      "See the caveats in the documentation: https://pandas.pydata.org/pandas-docs/stable/user_guide/indexing.html#returning-a-view-versus-a-copy\n",
      "  self.obj[key] = _infer_fill_value(value)\n",
      "/usr/local/lib/python3.6/dist-packages/pandas/core/indexing.py:966: SettingWithCopyWarning: \n",
      "A value is trying to be set on a copy of a slice from a DataFrame.\n",
      "Try using .loc[row_indexer,col_indexer] = value instead\n",
      "\n",
      "See the caveats in the documentation: https://pandas.pydata.org/pandas-docs/stable/user_guide/indexing.html#returning-a-view-versus-a-copy\n",
      "  self.obj[item] = s\n"
     ]
    }
   ],
   "source": [
    "loaddata_obj = LoadData(\"imdb_dataset_small.csv\") \n",
    "loaddata_obj.load_data()\n",
    "train = loaddata_obj.train_df\n",
    "test = loaddata_obj.test_df"
   ]
  },
  {
   "cell_type": "code",
   "execution_count": 21,
   "metadata": {},
   "outputs": [
    {
     "data": {
      "text/html": [
       "<div>\n",
       "<style scoped>\n",
       "    .dataframe tbody tr th:only-of-type {\n",
       "        vertical-align: middle;\n",
       "    }\n",
       "\n",
       "    .dataframe tbody tr th {\n",
       "        vertical-align: top;\n",
       "    }\n",
       "\n",
       "    .dataframe thead th {\n",
       "        text-align: right;\n",
       "    }\n",
       "</style>\n",
       "<table border=\"1\" class=\"dataframe\">\n",
       "  <thead>\n",
       "    <tr style=\"text-align: right;\">\n",
       "      <th></th>\n",
       "      <th>sentence</th>\n",
       "      <th>sentiment</th>\n",
       "      <th>polarity</th>\n",
       "    </tr>\n",
       "  </thead>\n",
       "  <tbody>\n",
       "    <tr>\n",
       "      <th>0</th>\n",
       "      <td>One of the other reviewers has mentioned that ...</td>\n",
       "      <td>positive</td>\n",
       "      <td>1.0</td>\n",
       "    </tr>\n",
       "    <tr>\n",
       "      <th>1</th>\n",
       "      <td>A wonderful little production. &lt;br /&gt;&lt;br /&gt;The...</td>\n",
       "      <td>positive</td>\n",
       "      <td>1.0</td>\n",
       "    </tr>\n",
       "    <tr>\n",
       "      <th>2</th>\n",
       "      <td>I thought this was a wonderful way to spend ti...</td>\n",
       "      <td>positive</td>\n",
       "      <td>1.0</td>\n",
       "    </tr>\n",
       "    <tr>\n",
       "      <th>4</th>\n",
       "      <td>Petter Mattei's \"Love in the Time of Money\" is...</td>\n",
       "      <td>positive</td>\n",
       "      <td>1.0</td>\n",
       "    </tr>\n",
       "    <tr>\n",
       "      <th>5</th>\n",
       "      <td>Probably my all-time favorite movie, a story o...</td>\n",
       "      <td>positive</td>\n",
       "      <td>1.0</td>\n",
       "    </tr>\n",
       "  </tbody>\n",
       "</table>\n",
       "</div>"
      ],
      "text/plain": [
       "                                            sentence sentiment  polarity\n",
       "0  One of the other reviewers has mentioned that ...  positive       1.0\n",
       "1  A wonderful little production. <br /><br />The...  positive       1.0\n",
       "2  I thought this was a wonderful way to spend ti...  positive       1.0\n",
       "4  Petter Mattei's \"Love in the Time of Money\" is...  positive       1.0\n",
       "5  Probably my all-time favorite movie, a story o...  positive       1.0"
      ]
     },
     "execution_count": 21,
     "metadata": {},
     "output_type": "execute_result"
    }
   ],
   "source": [
    "train.head()"
   ]
  },
  {
   "cell_type": "code",
   "execution_count": 25,
   "metadata": {},
   "outputs": [
    {
     "name": "stdout",
     "output_type": "stream",
     "text": [
      "Construct Corpus...\n",
      "Convert Corpus to Integers\n",
      "Convert Phrase to Integers\n"
     ]
    }
   ],
   "source": [
    "def Corpus_Extr(df):\n",
    "    print('Construct Corpus...')\n",
    "    corpus = []\n",
    "    sentences = df['sentence'].values\n",
    "    \n",
    "    for i in range(len(sentences)):\n",
    "        corpus += sentences[i].lower().split()\n",
    "    print('Convert Corpus to Integers')\n",
    "    vocab_to_int = {word: idx for idx,word in enumerate(corpus)}\n",
    "    print('Convert Phrase to Integers')\n",
    "    phrase_to_int = []\n",
    "    for i in range(len(sentences)):\n",
    "        phrase_to_int.append([vocab_to_int[word] for word in sentences[i].lower().split()])\n",
    "    return corpus,vocab_to_int,phrase_to_int\n",
    "corpus,vocab_to_int,phrase_to_int = Corpus_Extr(train)"
   ]
  },
  {
   "cell_type": "code",
   "execution_count": 26,
   "metadata": {},
   "outputs": [
    {
     "name": "stderr",
     "output_type": "stream",
     "text": [
      "100%|██████████| 9903/9903 [00:00<00:00, 42704.28it/s]\n"
     ]
    }
   ],
   "source": [
    "def Pad_sequences(phrase_to_int,seq_length):\n",
    "    pad_sequences = np.zeros((len(phrase_to_int), seq_length),dtype=int)\n",
    "    for idx,row in tqdm(enumerate(phrase_to_int),total=len(phrase_to_int)):\n",
    "        pad_sequences[idx, :len(row)] = np.array(row)[:seq_length]\n",
    "    return pad_sequences\n",
    "\n",
    "pad_sequences = Pad_sequences(phrase_to_int,30)"
   ]
  },
  {
   "cell_type": "code",
   "execution_count": 10,
   "metadata": {},
   "outputs": [],
   "source": [
    "class PhraseDataset(Dataset):\n",
    "    def __init__(self,df,pad_sequences):\n",
    "        super().__init__()\n",
    "        self.df = df\n",
    "        self.pad_sequences = pad_sequences\n",
    "        \n",
    "    def __len__(self):\n",
    "        return len(self.df)\n",
    "    \n",
    "    def __getitem__(self,idx):\n",
    "        if 'Sentiment' in self.df.columns:\n",
    "            label = self.df['Sentiment'].values[idx]\n",
    "            item = self.pad_sequences[idx]\n",
    "            return item,label\n",
    "        else:\n",
    "            item = self.pad_sequences[idx]\n",
    "            return item"
   ]
  },
  {
   "cell_type": "code",
   "execution_count": null,
   "metadata": {},
   "outputs": [],
   "source": []
  },
  {
   "cell_type": "code",
   "execution_count": null,
   "metadata": {},
   "outputs": [],
   "source": []
  },
  {
   "cell_type": "code",
   "execution_count": null,
   "metadata": {},
   "outputs": [],
   "source": []
  },
  {
   "cell_type": "code",
   "execution_count": null,
   "metadata": {},
   "outputs": [],
   "source": [
    "predict_sentiment(model, \"This film is terrible\")"
   ]
  },
  {
   "cell_type": "code",
   "execution_count": null,
   "metadata": {},
   "outputs": [],
   "source": [
    "predict_sentiment(model, \"This film is great\")"
   ]
  }
 ],
 "metadata": {
  "kernelspec": {
   "display_name": "Python 3",
   "language": "python",
   "name": "python3"
  },
  "language_info": {
   "codemirror_mode": {
    "name": "ipython",
    "version": 3
   },
   "file_extension": ".py",
   "mimetype": "text/x-python",
   "name": "python",
   "nbconvert_exporter": "python",
   "pygments_lexer": "ipython3",
   "version": "3.6.9"
  }
 },
 "nbformat": 4,
 "nbformat_minor": 2
}
