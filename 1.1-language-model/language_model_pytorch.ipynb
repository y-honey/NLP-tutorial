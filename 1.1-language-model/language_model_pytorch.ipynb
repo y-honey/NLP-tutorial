{
 "cells": [
  {
   "cell_type": "code",
   "execution_count": 4,
   "metadata": {},
   "outputs": [],
   "source": [
    "import torch\n",
    "import torch.nn as nn\n",
    "import torch.nn.functional as F\n",
    "\n",
    "import numpy as np\n",
    "from collections import Counter\n",
    "import os"
   ]
  },
  {
   "cell_type": "code",
   "execution_count": 5,
   "metadata": {},
   "outputs": [],
   "source": [
    "batch_size = 8"
   ]
  },
  {
   "cell_type": "code",
   "execution_count": 6,
   "metadata": {},
   "outputs": [
    {
     "name": "stdout",
     "output_type": "stream",
     "text": [
      "Vocabulary size 22\n"
     ]
    }
   ],
   "source": [
    "class PreProcessing():\n",
    "    \n",
    "    def get_data_from_file(self,train_file, batch_size, seq_size):\n",
    "        with open(train_file, 'r', encoding='utf-8') as f:\n",
    "            text = f.read()\n",
    "        text = text.split()\n",
    "\n",
    "        word_counts = Counter(text)\n",
    "        sorted_vocab = sorted(word_counts, key=word_counts.get, reverse=True)\n",
    "        int_to_vocab = {k: w for k, w in enumerate(sorted_vocab)}\n",
    "        vocab_to_int = {w: k for k, w in int_to_vocab.items()}\n",
    "        n_vocab = len(int_to_vocab)\n",
    "\n",
    "        print('Vocabulary size', n_vocab)\n",
    "\n",
    "        int_text = [vocab_to_int[w] for w in text]\n",
    "        num_batches = int(len(int_text) / (seq_size * batch_size))\n",
    "        in_text = int_text[:num_batches * batch_size * seq_size]\n",
    "        out_text = np.zeros_like(in_text)\n",
    "        out_text[:-1] = in_text[1:]\n",
    "        out_text[-1] = in_text[0]\n",
    "        in_text = np.reshape(in_text, (batch_size, -1))\n",
    "        out_text = np.reshape(out_text, (batch_size, -1))\n",
    "        return int_to_vocab, vocab_to_int, n_vocab, in_text, out_text\n",
    "\n",
    "\n",
    "    def get_batches(self,in_text, out_text, batch_size, seq_size):\n",
    "        num_batches = np.prod(in_text.shape) // (seq_size * batch_size)\n",
    "        for i in range(0, num_batches * seq_size, seq_size):\n",
    "            yield in_text[:, i:i+seq_size], out_text[:, i:i+seq_size]\n",
    "            \n",
    "            \n",
    "preprocess_obj = PreProcessing()\n",
    "int_to_vocab, vocab_to_int, n_vocab, in_text, out_text = preprocess_obj.get_data_from_file(\"data.txt\",4,4)"
   ]
  },
  {
   "cell_type": "code",
   "execution_count": 7,
   "metadata": {},
   "outputs": [
    {
     "data": {
      "text/plain": [
       "array([[ 0,  1,  2,  3],\n",
       "       [ 4,  5,  6,  7],\n",
       "       [ 8,  9, 10, 11],\n",
       "       [12,  0, 13, 14]])"
      ]
     },
     "execution_count": 7,
     "metadata": {},
     "output_type": "execute_result"
    }
   ],
   "source": [
    "in_text"
   ]
  },
  {
   "cell_type": "code",
   "execution_count": 8,
   "metadata": {},
   "outputs": [
    {
     "data": {
      "text/plain": [
       "array([[ 1,  2,  3,  4],\n",
       "       [ 5,  6,  7,  8],\n",
       "       [ 9, 10, 11, 12],\n",
       "       [ 0, 13, 14,  0]])"
      ]
     },
     "execution_count": 8,
     "metadata": {},
     "output_type": "execute_result"
    }
   ],
   "source": [
    "out_text"
   ]
  },
  {
   "cell_type": "code",
   "execution_count": null,
   "metadata": {},
   "outputs": [],
   "source": []
  }
 ],
 "metadata": {
  "kernelspec": {
   "display_name": "Python 3",
   "language": "python",
   "name": "python3"
  },
  "language_info": {
   "codemirror_mode": {
    "name": "ipython",
    "version": 3
   },
   "file_extension": ".py",
   "mimetype": "text/x-python",
   "name": "python",
   "nbconvert_exporter": "python",
   "pygments_lexer": "ipython3",
   "version": "3.6.9"
  }
 },
 "nbformat": 4,
 "nbformat_minor": 2
}
