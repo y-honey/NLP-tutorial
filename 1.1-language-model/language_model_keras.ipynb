{
 "cells": [
  {
   "cell_type": "markdown",
   "metadata": {},
   "source": [
    "<h1>Language Model Using Tensorflow & keras<h1> "
   ]
  },
  {
   "cell_type": "markdown",
   "metadata": {},
   "source": [
    "<h5>Importing Libraries<h5>"
   ]
  },
  {
   "cell_type": "code",
   "execution_count": null,
   "metadata": {},
   "outputs": [],
   "source": [
    "from numpy import array\n",
    "import tensorflow as tf\n",
    "print(tf.version.VERSION)\n",
    "from tensorflow.keras.preprocessing.text import Tokenizer\n",
    "from tensorflow.keras.utils import to_categorical\n",
    "from tensorflow.keras.preprocessing.sequence import pad_sequences\n",
    "from tensorflow.keras.models import Sequential\n",
    "from tensorflow.keras.layers import Dense\n",
    "from tensorflow.keras.layers import LSTM\n",
    "from tensorflow.keras.layers import Embedding"
   ]
  },
  {
   "cell_type": "markdown",
   "metadata": {},
   "source": [
    "<h5>Preprocessing Data<h5>"
   ]
  },
  {
   "cell_type": "code",
   "execution_count": null,
   "metadata": {},
   "outputs": [],
   "source": [
    "class Preprocessing():\n",
    "    \n",
    "    def __init__(self,input_file):\n",
    "        self.input_data_file = input_file\n",
    "        self.data = None\n",
    "        self.vocab_size = None\n",
    "        self.encoded_data = None\n",
    "        self.max_length = None\n",
    "        self.seq_len = 3\n",
    "        self.sequences = None\n",
    "        self.x = None\n",
    "        self.y = None\n",
    "        self.tokenizer = None\n",
    "    \n",
    "    def load_data(self):\n",
    "        fp = open(self.input_data_file,'r')\n",
    "        self.data = fp.read().splitlines()        \n",
    "        fp.close()\n",
    "        \n",
    "    def encode_data(self):\n",
    "        self.tokenizer = Tokenizer()\n",
    "        self.tokenizer.fit_on_texts(self.data)\n",
    "        self.encoded_data = self.tokenizer.texts_to_sequences(self.data)\n",
    "        self.vocab_size = len(self.tokenizer.word_counts)+1\n",
    "        #print(\"encoded: {}\".format(self.encoded_data))\n",
    "        #print(\"Data: {}\".format(self.data))\n",
    "    def get_sequence(self):\n",
    "        seq_list = list()\n",
    "        for item in self.encoded_data:\n",
    "            l = len(item)\n",
    "            stop_len = l-self.seq_len+1\n",
    "            for id in range(stop_len):\n",
    "                seq_list.append(item[id:id+self.seq_len])\n",
    "        \n",
    "        self.max_length = max([len(seq) for seq in seq_list])\n",
    "        self.sequences = pad_sequences(seq_list, maxlen=self.max_length, padding='pre')\n",
    "        self.sequences = array(self.sequences)\n",
    "        #print(\"sequences: {}\".format(self.sequences))\n",
    "            \n",
    "    def get_data(self):\n",
    "        self.x = self.sequences[:,:-1]\n",
    "        self.y = self.sequences[:,-1]\n",
    "        self.y = to_categorical(self.y,num_classes=self.vocab_size)\n",
    "        #print(\"X: {}\".format(self.x))\n",
    "        #print(\"Y: {}\".format(self.y))\n",
    "pr = Preprocessing('data.txt')\n",
    "pr.load_data()\n",
    "pr.encode_data()\n",
    "pr.get_sequence()\n",
    "pr.get_data()"
   ]
  },
  {
   "cell_type": "markdown",
   "metadata": {},
   "source": [
    "<h3>Model"
   ]
  },
  {
   "cell_type": "code",
   "execution_count": null,
   "metadata": {},
   "outputs": [],
   "source": [
    "class Model():\n",
    "    def __init__(self,params):\n",
    "        self.model = None\n",
    "        self.x = None\n",
    "        self.y = None\n",
    "        self.vocab_size = params['vocab_size']\n",
    "        self.max_len = params['max_len']\n",
    "        self.activation = params['activation']\n",
    "        self.optimizer = params['optimizer']\n",
    "        self.epochs = params['epochs']\n",
    "        self.metrics = params['metrics']\n",
    "        \n",
    "        \n",
    "    def create_model(self):\n",
    "        self.model = Sequential()\n",
    "        self.model.add(Embedding(self.vocab_size,10,input_length=self.max_len-1))\n",
    "        self.model.add(LSTM(50))\n",
    "        self.model.add(Dense(self.vocab_size,activation=self.activation))\n",
    "        self.model.compile(loss='categorical_crossentropy',optimizer=self.optimizer,metrics=self.metrics)\n",
    "        \n",
    "    def run(self):\n",
    "        self.model.fit(self.x,self.y,epochs=self.epochs)\n",
    "    \n",
    "params = {\"activation\":\"softmax\",\"epochs\":500,\"verbose\":2,\"loss\":\"categorical_crossentropy\",\n",
    "          \"optimizer\":\"adam\",\"metrics\":['accuracy'],\"vocab_size\":pr.vocab_size,\"max_len\":pr.max_length}\n",
    "model_obj = Model(params)\n",
    "model_obj.x = pr.x\n",
    "model_obj.y = pr.y\n",
    "model_obj.create_model()\n",
    "model_obj.run()\n",
    "        "
   ]
  },
  {
   "cell_type": "markdown",
   "metadata": {},
   "source": [
    "<h4>Prediction"
   ]
  },
  {
   "cell_type": "code",
   "execution_count": null,
   "metadata": {},
   "outputs": [],
   "source": [
    "class Prediction():\n",
    "    def __init__(self,model,tokenizer,max_len):\n",
    "        self.model = model\n",
    "        self.tokenizer = tokenizer\n",
    "        self.max_length = max_len\n",
    "        \n",
    "    def generate_seq(self,text,num_words):\n",
    "        for id in range(num_words):\n",
    "            encoded = self.tokenizer.texts_to_sequences([text])[0]\n",
    "            print(\"encoded:\",encoded)\n",
    "            encoded = pad_sequences([encoded],maxlen = self.max_length-1,padding='pre')\n",
    "            #print(\"encoded:\",encoded)\n",
    "            y_pred = self.model.predict_classes(encoded)\n",
    "            out_word = ''\n",
    "            for word, index in self.tokenizer.word_index.items():\n",
    "                if index == y_pred:\n",
    "                    out_word = word\n",
    "                    break\n",
    "            # append to input\n",
    "            text += ' ' + out_word\n",
    "        return text\n",
    "            \n",
    "pred = Prediction(model_obj.model,pr.tokenizer,pr.max_length)        \n",
    "print(pred.generate_seq(\"Jack and\",4))\n",
    "print(pred.generate_seq('And Jill', 3))\n",
    "print(pred.generate_seq('fell down', 5))\n",
    "print(pred.generate_seq('pail of', 5))"
   ]
  },
  {
   "cell_type": "code",
   "execution_count": null,
   "metadata": {},
   "outputs": [],
   "source": []
  },
  {
   "cell_type": "code",
   "execution_count": null,
   "metadata": {},
   "outputs": [],
   "source": []
  }
 ],
 "metadata": {
  "kernelspec": {
   "display_name": "Python 3",
   "language": "python",
   "name": "python3"
  },
  "language_info": {
   "codemirror_mode": {
    "name": "ipython",
    "version": 3
   },
   "file_extension": ".py",
   "mimetype": "text/x-python",
   "name": "python",
   "nbconvert_exporter": "python",
   "pygments_lexer": "ipython3",
   "version": "3.6.9"
  }
 },
 "nbformat": 4,
 "nbformat_minor": 2
}
